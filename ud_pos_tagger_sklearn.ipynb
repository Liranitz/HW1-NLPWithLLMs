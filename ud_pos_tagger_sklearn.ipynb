{
 "cells": [
  {
   "cell_type": "markdown",
   "metadata": {},
   "source": [
    "# POS Tagger Trained on the UD Treebank"
   ]
  },
  {
   "cell_type": "markdown",
   "metadata": {},
   "source": [
    "Adapted from https://github.com/soutsios/pos_tagger_mlp/blob/master/pos_tagger_mlp.ipynb "
   ]
  },
  {
   "cell_type": "code",
   "execution_count": 1,
   "metadata": {},
   "outputs": [],
   "source": [
    "import pyconll, nltk, datetime, warnings\n",
    "import numpy as np\n",
    "from scipy.sparse import vstack\n",
    "import matplotlib.pyplot as plt\n",
    "from sklearn.feature_extraction import DictVectorizer\n",
    "from sklearn.linear_model import LogisticRegression\n",
    "from sklearn.metrics import classification_report, accuracy_score, confusion_matrix, f1_score\n",
    "from sklearn.model_selection import StratifiedKFold, GridSearchCV, learning_curve\n",
    "from sklearn.exceptions import UndefinedMetricWarning\n",
    "warnings.filterwarnings(action='ignore', category=UndefinedMetricWarning)\n",
    "from numpy.random import seed"
   ]
  },
  {
   "cell_type": "markdown",
   "metadata": {},
   "source": [
    "# Plot Functions\n",
    "\n",
    "These functions are useful to visualize the training dynamics of the learning algorithm and the confusion matrix of the trained models."
   ]
  },
  {
   "cell_type": "code",
   "execution_count": 2,
   "metadata": {},
   "outputs": [],
   "source": [
    "def plot_learning_curve(estimator, title, X, y, ylim=None, cv=None,\n",
    "                        n_jobs=None, train_sizes=np.linspace(.1, 1.0, 5)):\n",
    "    plt.title(title)\n",
    "    if ylim is not None:\n",
    "        plt.ylim(*ylim)\n",
    "    plt.xlabel(\"Training examples\")\n",
    "    plt.ylabel(\"Accuracy\")\n",
    "    train_sizes, train_scores, test_scores = learning_curve(\n",
    "        estimator, X, y, cv=cv, n_jobs=n_jobs, train_sizes=train_sizes, scoring='accuracy')\n",
    "    train_scores_mean = np.mean(train_scores, axis=1)\n",
    "    train_scores_std = np.std(train_scores, axis=1)\n",
    "    test_scores_mean = np.mean(test_scores, axis=1)\n",
    "    test_scores_std = np.std(test_scores, axis=1)\n",
    "    plt.grid()\n",
    "\n",
    "    plt.fill_between(train_sizes, train_scores_mean - train_scores_std,\n",
    "                     train_scores_mean + train_scores_std, alpha=0.1,\n",
    "                     color=\"r\")\n",
    "    plt.fill_between(train_sizes, test_scores_mean - test_scores_std,\n",
    "                     test_scores_mean + test_scores_std, alpha=0.1, color=\"g\")\n",
    "    plt.plot(train_sizes, train_scores_mean, 'o-', color=\"r\",\n",
    "             label=\"Training score\")\n",
    "    plt.plot(train_sizes, test_scores_mean, 'o-', color=\"g\",\n",
    "             label=\"Cross-validation score\")\n",
    "\n",
    "    plt.legend(loc=\"best\")\n",
    "    return plt"
   ]
  },
  {
   "cell_type": "code",
   "execution_count": 3,
   "metadata": {},
   "outputs": [],
   "source": [
    "def plot_confusion_matrix(f1,\n",
    "                          cm,\n",
    "                          target_names,\n",
    "                          title='Confusion matrix',\n",
    "                          cmap=None,\n",
    "                          normalize=True,\n",
    "                          i=1):\n",
    "    \"\"\"\n",
    "    given a sklearn confusion matrix (cm), make a nice plot\n",
    "\n",
    "    Arguments\n",
    "    ---------\n",
    "    cm:           confusion matrix from sklearn.metrics.confusion_matrix\n",
    "\n",
    "    target_names: given classification classes such as [0, 1, 2]\n",
    "                  the class names, for example: ['high', 'medium', 'low']\n",
    "\n",
    "    title:        the text to display at the top of the matrix\n",
    "\n",
    "    cmap:         the gradient of the values displayed from matplotlib.pyplot.cm\n",
    "                  see http://matplotlib.org/examples/color/colormaps_reference.html\n",
    "                  plt.get_cmap('jet') or plt.cm.Blues\n",
    "\n",
    "    normalize:    If False, plot the raw numbers\n",
    "                  If True, plot the proportions\n",
    "\n",
    "    Usage\n",
    "    -----\n",
    "    plot_confusion_matrix(cm           = cm,                  # confusion matrix created by\n",
    "                                                              # sklearn.metrics.confusion_matrix\n",
    "                          normalize    = True,                # show proportions\n",
    "                          target_names = y_labels_vals,       # list of names of the classes\n",
    "                          title        = best_estimator_name) # title of graph\n",
    "\n",
    "    Citiation\n",
    "    ---------\n",
    "    http://scikit-learn.org/stable/auto_examples/model_selection/plot_confusion_matrix.html\n",
    "\n",
    "    \"\"\"\n",
    "    import matplotlib.pyplot as plt\n",
    "    import numpy as np\n",
    "    import itertools\n",
    "\n",
    "    accuracy = np.trace(cm) / float(np.sum(cm))\n",
    "    misclass = 1 - accuracy\n",
    "    plt.figure(figsize=(10, 6))\n",
    "    if cmap is None:\n",
    "        cmap = plt.get_cmap('Blues')\n",
    "\n",
    "    plt.imshow(cm, interpolation='nearest', cmap=cmap)\n",
    "    plt.title(title)\n",
    "    plt.colorbar()\n",
    "\n",
    "    if target_names is not None:\n",
    "        tick_marks = np.arange(len(target_names))\n",
    "        plt.xticks(tick_marks, target_names, rotation=45)\n",
    "        plt.yticks(tick_marks, target_names)\n",
    "\n",
    "    if normalize:\n",
    "        cm = cm.astype('float') / cm.sum(axis=1)[:, np.newaxis]\n",
    "\n",
    "\n",
    "    thresh = cm.max() / 1.5 if normalize else cm.max() / 2\n",
    "    for i, j in itertools.product(range(cm.shape[0]), range(cm.shape[1])):\n",
    "        if normalize:\n",
    "            plt.text(j, i, \"{:0.4f}\".format(cm[i, j]),\n",
    "                     horizontalalignment=\"center\",\n",
    "                     color=\"white\" if cm[i, j] > thresh else \"black\")\n",
    "        else:\n",
    "            plt.text(j, i, \"{:,}\".format(cm[i, j]),\n",
    "                     horizontalalignment=\"center\",\n",
    "                     color=\"white\" if cm[i, j] > thresh else \"black\")\n",
    "\n",
    "\n",
    "    plt.tight_layout()\n",
    "    plt.ylabel('True label')\n",
    "    plt.xlabel('Predicted label\\naccuracy={:0.4f}; misclass={:0.4f}; f1-score={:0.4f}'.format(accuracy, misclass, f1))"
   ]
  },
  {
   "cell_type": "markdown",
   "metadata": {},
   "source": [
    "# Load Dataset"
   ]
  },
  {
   "cell_type": "code",
   "execution_count": 4,
   "metadata": {},
   "outputs": [],
   "source": [
    "UD_ENGLISH_TRAIN = '../UD_English-EWT/en_ewt-ud-train.conllu'\n",
    "UD_ENGLISH_DEV = '../UD_English-EWT/en_ewt-ud-dev.conllu'\n",
    "UD_ENGLISH_TEST = '../UD_English-EWT/en_ewt-ud-test.conllu'"
   ]
  },
  {
   "cell_type": "markdown",
   "metadata": {},
   "source": [
    "# Preprocessing"
   ]
  },
  {
   "cell_type": "code",
   "execution_count": 5,
   "metadata": {},
   "outputs": [],
   "source": [
    "def read_conllu(path):\n",
    "    data = pyconll.load_from_file(path)\n",
    "    tagged_sentences=[]\n",
    "    original_sentences=[]\n",
    "    t=0\n",
    "    for sentence in data:\n",
    "        original_sentences.append(sentence.text)\n",
    "        tagged_sentence=[]\n",
    "        for token in sentence:\n",
    "            if token.upos:\n",
    "                t+=1\n",
    "                tagged_sentence.append((token.form if token.form else '*None*', token.upos))\n",
    "        tagged_sentences.append(tagged_sentence)\n",
    "    return tagged_sentences, original_sentences"
   ]
  },
  {
   "cell_type": "markdown",
   "metadata": {},
   "source": [
    "Load train, development and test set in the appropriate tagged format, tuple (word, pos-tag)"
   ]
  },
  {
   "cell_type": "code",
   "execution_count": 6,
   "metadata": {},
   "outputs": [],
   "source": [
    "train_sentences, train_original = read_conllu(UD_ENGLISH_TRAIN)\n",
    "val_sentences, val_original = read_conllu(UD_ENGLISH_DEV)\n",
    "test_sentences, test_original = read_conllu(UD_ENGLISH_TEST)"
   ]
  },
  {
   "cell_type": "markdown",
   "metadata": {},
   "source": [
    "Print statistics"
   ]
  },
  {
   "cell_type": "code",
   "execution_count": 8,
   "metadata": {},
   "outputs": [
    {
     "name": "stdout",
     "output_type": "stream",
     "text": [
      "Tagged sentences in train set:  12544\n",
      "Tagged words in train set: 204616\n",
      "========================================\n",
      "Tagged sentences in dev set:  2001\n",
      "Tagged words in dev set: 25153\n",
      "========================================\n",
      "Tagged sentences in test set:  2077\n",
      "Tagged words in test set: 25096\n"
     ]
    }
   ],
   "source": [
    "print(\"Tagged sentences in train set: \", len(train_sentences))\n",
    "print(\"Tagged words in train set:\", len([item for sublist in train_sentences for item in sublist]))\n",
    "print(40*'=')\n",
    "print(\"Tagged sentences in dev set: \", len(val_sentences))\n",
    "print(\"Tagged words in dev set:\", len([item for sublist in val_sentences for item in sublist]))\n",
    "print(40*'=')\n",
    "print(\"Tagged sentences in test set: \", len(test_sentences))\n",
    "print(\"Tagged words in test set:\", len([item for sublist in test_sentences for item in sublist]))"
   ]
  },
  {
   "cell_type": "code",
   "execution_count": 9,
   "metadata": {},
   "outputs": [],
   "source": [
    "def tag_sequence(sentences):\n",
    "    return [[t for w, t in sentence] for sentence in sentences]\n",
    "\n",
    "def text_sequence(sentences):\n",
    "    return [[w for w, t in sentence] for sentence in sentences]\n",
    "\n",
    "def id2word(sentences):\n",
    "    wordlist = [item for sublist in text_sequence(sentences) for item in sublist]\n",
    "    id2word = {k:v for k,v in enumerate(wordlist)}\n",
    "    return id2word\n",
    "\n",
    "def untag(tagged_sentence):\n",
    "    return [w for w, _ in tagged_sentence]\n",
    "\n",
    "def untag_pos(tagged_sentence):\n",
    "    return [t for _, t in tagged_sentence]\n",
    "\n",
    "def build_vocab(sentences):\n",
    "    vocab =set()\n",
    "    for sentence in sentences:\n",
    "        for word in untag(sentence):\n",
    "            vocab.add(word)\n",
    "    return sorted(list(vocab))"
   ]
  },
  {
   "cell_type": "markdown",
   "metadata": {},
   "source": [
    "An important observation: how many terms are in validation set and not found in train set? (This estimates the Out-of-vocabulary rate.)"
   ]
  },
  {
   "cell_type": "code",
   "execution_count": 10,
   "metadata": {},
   "outputs": [
    {
     "name": "stdout",
     "output_type": "stream",
     "text": [
      "Number of terms not found in train set: 1661\n"
     ]
    }
   ],
   "source": [
    "list_1 = build_vocab(train_sentences)\n",
    "list_2 = build_vocab(val_sentences)\n",
    "diff_list = [item for item in list_2 if item not in list_1]\n",
    "print('Number of terms not found in train set:',len(diff_list))"
   ]
  },
  {
   "cell_type": "markdown",
   "metadata": {},
   "source": [
    "# Feature Engineering\n",
    "\n",
    "We use the \"classical\" machine learning approach: we will train a token classifier model. The classifier gets as input a feature vector describing each token in the sentence. We decide a priori which features are informative to make the tagging decision. In this case, we use a combination of \"word shape\" features which approximate morphological knowledge. We naturally also include lexical information (the token form itself), and some form of \"syntactic knowledge\" by adding reference to the previous and next word in each token feature vector."
   ]
  },
  {
   "cell_type": "code",
   "execution_count": 11,
   "metadata": {},
   "outputs": [],
   "source": [
    "def features_basic(sentence, index):\n",
    "    \"\"\" sentence: [w1, w2, ...], index: the index of the word \"\"\"\n",
    "    return {\n",
    "        'nb_terms': len(sentence),        \n",
    "        'word': sentence[index],\n",
    "        'word_lower': sentence[index].lower(),\n",
    "        'is_first': index == 0,\n",
    "        'is_last': index == len(sentence) - 1,\n",
    "        'is_capitalized': sentence[index][0].upper() == sentence[index][0],\n",
    "        'is_all_caps': sentence[index].upper() == sentence[index],\n",
    "        'is_all_lower': sentence[index].lower() == sentence[index],\n",
    "        'prefix-1': sentence[index][0],\n",
    "        'prefix-2': sentence[index][:2],\n",
    "        'prefix-3': sentence[index][:3],\n",
    "        'suffix-1': sentence[index][-1],\n",
    "        'suffix-2': sentence[index][-2:],\n",
    "        'suffix-3': sentence[index][-3:],\n",
    "        'i-1_prefix-3': '' if index == 0 else sentence[index-1][:3],        \n",
    "        'i-1_suffix-3': '' if index == 0 else sentence[index-1][-3:],        \n",
    "        'i+1_prefix-3': '' if index == len(sentence) - 1 else sentence[index+1][:3],        \n",
    "        'i+1_suffix-3': '' if index == len(sentence) - 1 else sentence[index+1][-3:],        \n",
    "        'prev_word': '' if index == 0 else sentence[index - 1].lower(),\n",
    "        'next_word': '' if index == len(sentence) - 1 else sentence[index + 1].lower(),\n",
    "        'has_hyphen': '-' in sentence[index],\n",
    "        'is_numeric': sentence[index].isdigit(),\n",
    "        'capitals_inside': sentence[index][1:].lower() != sentence[index][1:],\n",
    "    }"
   ]
  },
  {
   "cell_type": "markdown",
   "metadata": {},
   "source": [
    "In the scikit-learn model, we model a dataset as a pair of two data structures:\n",
    "* The list of feature dictionaries X (one feature dictionary for each token)\n",
    "* The list of predicted label y (one tag for each token)"
   ]
  },
  {
   "cell_type": "code",
   "execution_count": 12,
   "metadata": {},
   "outputs": [
    {
     "data": {
      "text/plain": [
       "'PROPN'"
      ]
     },
     "execution_count": 12,
     "metadata": {},
     "output_type": "execute_result"
    }
   ],
   "source": [
    "def transform_to_dataset(tagged_sentences):\n",
    "    X, y = [], []\n",
    "    for doc_index, tagged in enumerate(tagged_sentences):\n",
    "        for index in range(len(tagged)):\n",
    "            X.append([features_basic(untag(tagged), index)])\n",
    "            y.append(tagged[index][1])\n",
    "    return X, y\n",
    "x,y=transform_to_dataset(train_sentences)\n",
    "y[0]"
   ]
  },
  {
   "cell_type": "markdown",
   "metadata": {},
   "source": [
    "Given a sentence represented as a list of tokens, return the list of feature dictionaries using our feature encoding method:"
   ]
  },
  {
   "cell_type": "code",
   "execution_count": 13,
   "metadata": {},
   "outputs": [],
   "source": [
    "def transform_test_sentence(sentence):\n",
    "    X = []\n",
    "    for index in range(len(sentence)):\n",
    "            X.append([features_basic(sentence, index)])\n",
    "    return X\n"
   ]
  },
  {
   "cell_type": "markdown",
   "metadata": {},
   "source": [
    "## Test untag()\n",
    "\n",
    "We use untag() to extract raw sentences from the annotated CoNLL dataset. This way we can reproduce a sentence without tags, submit it to the tagger and compare predictions to the gold tags that are provided in the dataset."
   ]
  },
  {
   "cell_type": "code",
   "execution_count": 14,
   "metadata": {},
   "outputs": [
    {
     "data": {
      "text/plain": [
       "['What',\n",
       " 'if',\n",
       " 'Google',\n",
       " 'expanded',\n",
       " 'on',\n",
       " 'its',\n",
       " 'search',\n",
       " '-',\n",
       " 'engine',\n",
       " '(',\n",
       " 'and',\n",
       " 'now',\n",
       " 'e-mail',\n",
       " ')',\n",
       " 'wares',\n",
       " 'into',\n",
       " 'a',\n",
       " 'full',\n",
       " '-',\n",
       " 'fledged',\n",
       " 'operating',\n",
       " 'system',\n",
       " '?']"
      ]
     },
     "execution_count": 14,
     "metadata": {},
     "output_type": "execute_result"
    }
   ],
   "source": [
    "untag(test_sentences[1])"
   ]
  },
  {
   "cell_type": "markdown",
   "metadata": {},
   "source": [
    "# Dataset Transformation"
   ]
  },
  {
   "cell_type": "markdown",
   "metadata": {},
   "source": [
    "Before we can apply a generic machine learning algorithm (such as Logistic Regression), we need to encode the dataset into a vectorized format.\n",
    "\n",
    "We proceed in two steps: feature engineering and vectorization.\n",
    "\n",
    "For each token, we create a dictionary of features that depend on the sentence from which the token is extracted. \n",
    "These features include the word itself, the word before and the word after, letter suffixes and prefixes, etc.\n",
    "\n",
    "In the scikit-learn approach, before we can use a generic machine learning algorithm, we must then \"vectorize\" the feature dictionaries into vector encodings.\n",
    "For example, lexical features are encoded into one-hot vectors whose dimension is the size of the vocabulary.\n",
    "Note the difference between the method `fit_transform` of the vectorizer, which \"learns\" how to vectorize features, and `transform` which applies a learned vectorizer to feature dictionaries.  We use `fit_transform` on the training data, and `transform` on the other sections (validation and test).\n",
    "\n",
    "These vector representations are what is passed to the machine learning algorithm."
   ]
  },
  {
   "cell_type": "code",
   "execution_count": 15,
   "metadata": {},
   "outputs": [],
   "source": [
    "def vectorize(train, val, test):\n",
    "\n",
    "    print('Feature encoding method')\n",
    "    print('Vectorizing Dataset...')\n",
    "    print('Vectorizing train...')\n",
    "    X_train, y_train = transform_to_dataset(train)\n",
    "    v = DictVectorizer(sparse=True) \n",
    "    X_train = v.fit_transform([x[0] for x in X_train])\n",
    "    \n",
    "    print('Vectorizing validation...')\n",
    "    X_val, y_val = transform_to_dataset(val)\n",
    "    X_val = v.transform([x[0] for x in X_val])        \n",
    "    \n",
    "    print('Vectorizing test...')\n",
    "    X_test, y_test = transform_to_dataset(test)\n",
    "    X_test = v.transform([x[0] for x in X_test])\n",
    "    \n",
    "    print('Dataset vectorized.')\n",
    "    print('Train shape:', X_train.shape)\n",
    "    print('Validation shape:', X_val.shape)\n",
    "    print('Test shape:', X_test.shape)\n",
    "    \n",
    "    # Compress sparse matrices\n",
    "    X_train = X_train \n",
    "    X_val = X_val \n",
    "    X_test = X_test\n",
    "    return X_train, y_train, X_val, y_val, X_test, y_test, v\n"
   ]
  },
  {
   "cell_type": "markdown",
   "metadata": {},
   "source": [
    "# Baseline Tagger"
   ]
  },
  {
   "cell_type": "markdown",
   "metadata": {},
   "source": [
    "Before we train a \"real\" machine learning algorithm using scikit-learn, we will repeat the very simple statistical method we discussed in class.\n",
    "We train and evaluate the Baseline Unigram tagger to compare performance with the tagger we will train next."
   ]
  },
  {
   "cell_type": "code",
   "execution_count": 16,
   "metadata": {},
   "outputs": [],
   "source": [
    "default_tagger = nltk.DefaultTagger('NOUN')\n",
    "unigram_tagger = nltk.UnigramTagger(train_sentences+val_sentences, backoff=default_tagger)"
   ]
  },
  {
   "cell_type": "code",
   "execution_count": 17,
   "metadata": {},
   "outputs": [],
   "source": [
    "y_train = [item for sublist in tag_sequence(train_sentences+val_sentences) for item in sublist]\n",
    "y_test = [item for sublist in tag_sequence(test_sentences) for item in sublist]\n",
    "classes = sorted(list(set(y_train)))\n"
   ]
  },
  {
   "cell_type": "code",
   "execution_count": 18,
   "metadata": {},
   "outputs": [],
   "source": [
    "def tag_list(tagged_sents):\n",
    "    return [tag for sent in tagged_sents for (word, tag) in sent]\n",
    "def apply_tagger(tagger, corpus):\n",
    "    return [tagger.tag(nltk.tag.untag(sent)) for sent in corpus]"
   ]
  },
  {
   "cell_type": "code",
   "execution_count": 19,
   "metadata": {},
   "outputs": [
    {
     "name": "stdout",
     "output_type": "stream",
     "text": [
      "Accuracy: 0.8671\n",
      "f1-macro score: 0.7965\n"
     ]
    }
   ],
   "source": [
    "y_pred = tag_list(apply_tagger(unigram_tagger, test_sentences))\n",
    "print(\"Accuracy: {0:.4f}\".format(unigram_tagger.accuracy(test_sentences)))\n",
    "print('f1-macro score: {0:.4f}'.format(f1_score(y_test, y_pred, zero_division=1, average='macro')))"
   ]
  },
  {
   "cell_type": "code",
   "execution_count": 20,
   "metadata": {},
   "outputs": [
    {
     "name": "stdout",
     "output_type": "stream",
     "text": [
      "              precision    recall  f1-score   support\n",
      "\n",
      "         ADJ     0.9158    0.8367    0.8745      1794\n",
      "         ADP     0.8697    0.8813    0.8755      2030\n",
      "         ADV     0.9341    0.8030    0.8636      1183\n",
      "         AUX     0.9233    0.8970    0.9099      1543\n",
      "       CCONJ     0.9892    0.9973    0.9932       736\n",
      "         DET     0.9612    0.9678    0.9645      1896\n",
      "        INTJ     0.9655    0.6942    0.8077       121\n",
      "        NOUN     0.6879    0.9331    0.7920      4123\n",
      "         NUM     0.9146    0.6125    0.7337       542\n",
      "        PART     0.6959    0.9769    0.8128       649\n",
      "        PRON     0.9665    0.9321    0.9490      2166\n",
      "       PROPN     0.9240    0.5443    0.6851      2076\n",
      "       PUNCT     0.9941    0.9861    0.9901      3096\n",
      "       SCONJ     0.6257    0.5964    0.6107       384\n",
      "         SYM     0.8125    0.8349    0.8235       109\n",
      "        VERB     0.8880    0.8243    0.8549      2606\n",
      "           X     1.0000    0.0000    0.0000        42\n",
      "\n",
      "    accuracy                         0.8671     25096\n",
      "   macro avg     0.8864    0.7834    0.7965     25096\n",
      "weighted avg     0.8832    0.8671    0.8653     25096\n",
      "\n"
     ]
    }
   ],
   "source": [
    "print(classification_report(y_test, y_pred, zero_division=1, digits=4))"
   ]
  },
  {
   "cell_type": "markdown",
   "metadata": {},
   "source": [
    "See what errors the Baseline tagger makes:"
   ]
  },
  {
   "cell_type": "code",
   "execution_count": 21,
   "metadata": {},
   "outputs": [],
   "source": [
    "def check_tagger(tagged_sentence):\n",
    "    note = ''\n",
    "    for tup in list(zip(unigram_tagger.tag(untag(tagged_sentence)),untag_pos(tagged_sentence))):\n",
    "        if tup[0][1]!=tup[1]: note='<<--- Error!'\n",
    "        print(tup[0], tup[1], note)\n",
    "        note=''"
   ]
  },
  {
   "cell_type": "markdown",
   "metadata": {},
   "source": [
    "It makes mistakes. Unsurprising given its simplistic approach and the small size of the training data."
   ]
  },
  {
   "cell_type": "code",
   "execution_count": 23,
   "metadata": {},
   "outputs": [],
   "source": [
    "cnf_matrix = confusion_matrix(y_test, y_pred)\n",
    "name='Baseline'"
   ]
  },
  {
   "cell_type": "code",
   "execution_count": 24,
   "metadata": {},
   "outputs": [
    {
     "data": {
      "image/png": "[encoded data removed]",
      "text/plain": [
       "<Figure size 1000x600 with 2 Axes>"
      ]
     },
     "metadata": {},
     "output_type": "display_data"
    }
   ],
   "source": [
    "plot_confusion_matrix(f1_score(y_test, y_pred, average='macro'), cnf_matrix, target_names=classes, title='Confusion matrix for '+name+' classifier', normalize=False)"
   ]
  },
  {
   "cell_type": "markdown",
   "metadata": {},
   "source": [
    "# Train a Logistic Regression Model"
   ]
  },
  {
   "cell_type": "markdown",
   "metadata": {},
   "source": [
    "Let us move to a more serious machine learning model. We will train a Logistic Regression model using our feature extraction function based on our \"expertise\" in the domain.\n",
    "\n",
    "We first transform the whole dataset from the CoNLL format into the scikit-learn vectorized encoding using our feature extraction method."
   ]
  },
  {
   "cell_type": "code",
   "execution_count": 25,
   "metadata": {
    "scrolled": true
   },
   "outputs": [
    {
     "name": "stdout",
     "output_type": "stream",
     "text": [
      "Feature encoding method\n",
      "Vectorizing Dataset...\n",
      "Vectorizing train...\n",
      "Vectorizing validation...\n",
      "Vectorizing test...\n",
      "Dataset vectorized.\n",
      "Train shape: (204616, 98724)\n",
      "Validation shape: (25153, 98724)\n",
      "Test shape: (25096, 98724)\n"
     ]
    }
   ],
   "source": [
    "X_train, y_train, X_val, y_val, X_test, y_test, vec = vectorize(train_sentences, val_sentences, test_sentences)"
   ]
  },
  {
   "cell_type": "markdown",
   "metadata": {},
   "source": [
    "## Hyper-parameter Tuning"
   ]
  },
  {
   "cell_type": "markdown",
   "metadata": {},
   "source": [
    "The Logistic Regression algorithm uses a hyper-parameter called C.  We tune the value of this parameter by testing different values on a subset of the training data and observing the impact of the C parameter on selected metrics (accuracy and F1).\n",
    "\n",
    "Because we will use cross-validation, we can use the full train set (train + validation)"
   ]
  },
  {
   "cell_type": "code",
   "execution_count": 26,
   "metadata": {},
   "outputs": [],
   "source": [
    "X_train = vstack((X_train, X_val))\n",
    "y_train = np.append(y_train, y_val, axis=0)"
   ]
  },
  {
   "cell_type": "code",
   "execution_count": 27,
   "metadata": {},
   "outputs": [
    {
     "data": {
      "text/plain": [
       "(229769, 98724)"
      ]
     },
     "execution_count": 27,
     "metadata": {},
     "output_type": "execute_result"
    }
   ],
   "source": [
    "X_train.shape"
   ]
  },
  {
   "cell_type": "code",
   "execution_count": 28,
   "metadata": {},
   "outputs": [
    {
     "data": {
      "text/plain": [
       "(229769,)"
      ]
     },
     "execution_count": 28,
     "metadata": {},
     "output_type": "execute_result"
    }
   ],
   "source": [
    "y_train.shape"
   ]
  },
  {
   "cell_type": "code",
   "execution_count": 29,
   "metadata": {},
   "outputs": [],
   "source": [
    "def hyper_tuning(train, test, y_train, y_test, scores, estimator, parameters, cv):\n",
    "    print(\"# Estimator:\",estimator)\n",
    "    for score in scores:\n",
    "        print(\"# Tuning hyper-parameters for %s\" % score)        \n",
    "        clf = GridSearchCV(estimator, parameters, cv=cv, scoring='%s' % score)\n",
    "        clf.fit(train, y_train)\n",
    "        print(\"Best parameters set found on development set:\")\n",
    "        print(clf.best_params_)\n",
    "        print()\n",
    "        print(\"Grid scores on development set:\")\n",
    "        means = clf.cv_results_['mean_test_score']\n",
    "        stds = clf.cv_results_['std_test_score']\n",
    "        for mean, std, params in zip(means, stds, clf.cv_results_['params']):\n",
    "            print(\"%0.3f (+/-%0.03f) for %r\" % (mean, std * 2, params))\n",
    "        print()\n",
    "        print(\"Detailed classification report:\")\n",
    "        print(\"The model is trained on the full development set.\")\n",
    "        print(\"The scores are computed on the full evaluation set.\")\n",
    "        y_pred = clf.predict(test)\n",
    "        print(classification_report(y_test, y_pred, digits=4))\n",
    "        print('Accuracy: {0:0.4f}   f1-score: {1:0.4f} \\n'.format(accuracy_score(y_test, y_pred), f1_score(y_test, y_pred, average='macro')))\n",
    "    return clf"
   ]
  },
  {
   "cell_type": "code",
   "execution_count": 30,
   "metadata": {},
   "outputs": [
    {
     "name": "stdout",
     "output_type": "stream",
     "text": [
      "# Estimator: LogisticRegression(random_state=13, solver='liblinear')\n",
      "# Tuning hyper-parameters for accuracy\n",
      "Best parameters set found on development set:\n",
      "{'C': 20}\n",
      "\n",
      "Grid scores on development set:\n",
      "0.748 (+/-0.027) for {'C': 0.1}\n",
      "0.828 (+/-0.046) for {'C': 1}\n",
      "0.834 (+/-0.041) for {'C': 2}\n",
      "0.836 (+/-0.035) for {'C': 3}\n",
      "0.836 (+/-0.035) for {'C': 4}\n",
      "0.838 (+/-0.029) for {'C': 5}\n",
      "0.842 (+/-0.033) for {'C': 10}\n",
      "0.846 (+/-0.035) for {'C': 20}\n",
      "0.844 (+/-0.042) for {'C': 50}\n",
      "\n",
      "Detailed classification report:\n",
      "The model is trained on the full development set.\n",
      "The scores are computed on the full evaluation set.\n",
      "              precision    recall  f1-score   support\n",
      "\n",
      "         ADJ     0.0000    0.0000    0.0000         2\n",
      "         ADP     1.0000    0.6667    0.8000         6\n",
      "         ADV     0.0000    0.0000    0.0000         3\n",
      "         AUX     1.0000    1.0000    1.0000         1\n",
      "       CCONJ     1.0000    0.5000    0.6667         2\n",
      "         DET     0.6667    1.0000    0.8000         2\n",
      "        NOUN     0.6667    0.8571    0.7500         7\n",
      "        PRON     1.0000    0.2500    0.4000         4\n",
      "       PROPN     0.6667    1.0000    0.8000         8\n",
      "       PUNCT     1.0000    1.0000    1.0000        11\n",
      "       SCONJ     1.0000    1.0000    1.0000         2\n",
      "        VERB     0.2000    0.5000    0.2857         2\n",
      "\n",
      "    accuracy                         0.7400        50\n",
      "   macro avg     0.6833    0.6478    0.6252        50\n",
      "weighted avg     0.7547    0.7400    0.7111        50\n",
      "\n",
      "Accuracy: 0.7400   f1-score: 0.6252 \n",
      "\n",
      "# Tuning hyper-parameters for f1_macro\n",
      "Best parameters set found on development set:\n",
      "{'C': 20}\n",
      "\n",
      "Grid scores on development set:\n",
      "0.515 (+/-0.041) for {'C': 0.1}\n",
      "0.657 (+/-0.140) for {'C': 1}\n",
      "0.667 (+/-0.129) for {'C': 2}\n",
      "0.676 (+/-0.107) for {'C': 3}\n",
      "0.676 (+/-0.107) for {'C': 4}\n",
      "0.681 (+/-0.096) for {'C': 5}\n",
      "0.694 (+/-0.100) for {'C': 10}\n",
      "0.718 (+/-0.110) for {'C': 20}\n",
      "0.717 (+/-0.113) for {'C': 50}\n",
      "\n",
      "Detailed classification report:\n",
      "The model is trained on the full development set.\n",
      "The scores are computed on the full evaluation set.\n",
      "              precision    recall  f1-score   support\n",
      "\n",
      "         ADJ     0.0000    0.0000    0.0000         2\n",
      "         ADP     1.0000    0.6667    0.8000         6\n",
      "         ADV     0.0000    0.0000    0.0000         3\n",
      "         AUX     1.0000    1.0000    1.0000         1\n",
      "       CCONJ     1.0000    0.5000    0.6667         2\n",
      "         DET     0.6667    1.0000    0.8000         2\n",
      "        NOUN     0.6667    0.8571    0.7500         7\n",
      "        PRON     1.0000    0.2500    0.4000         4\n",
      "       PROPN     0.6667    1.0000    0.8000         8\n",
      "       PUNCT     1.0000    1.0000    1.0000        11\n",
      "       SCONJ     1.0000    1.0000    1.0000         2\n",
      "        VERB     0.2000    0.5000    0.2857         2\n",
      "\n",
      "    accuracy                         0.7400        50\n",
      "   macro avg     0.6833    0.6478    0.6252        50\n",
      "weighted avg     0.7547    0.7400    0.7111        50\n",
      "\n",
      "Accuracy: 0.7400   f1-score: 0.6252 \n",
      "\n"
     ]
    }
   ],
   "source": [
    "logregr = LogisticRegression(solver='liblinear', random_state=13)\n",
    "# Cross validation strategy\n",
    "skf = StratifiedKFold(n_splits=4)\n",
    "# Scores could also be ['precision', 'recall', ....]\n",
    "scores = ['accuracy', 'f1_macro']\n",
    "\n",
    "params = [{'C': [0.1, 1, 2, 3, 4, 5, 10, 20, 50]}]\n",
    "#logregr = hyper_tuning(X_train, X_test, y_train, y_test, scores, logregr, params, skf)\n",
    "#You may want to comment previous line and comment-out next lines to see how hyper-tuning works and dont wait too much time...\n",
    "skf = StratifiedKFold(n_splits=4)\n",
    "logregr = hyper_tuning(X_train[:500], X_test[:50], y_train[:500], y_test[:50], scores, logregr, params, skf)"
   ]
  },
  {
   "cell_type": "markdown",
   "metadata": {},
   "source": [
    "## Training"
   ]
  },
  {
   "cell_type": "markdown",
   "metadata": {},
   "source": [
    "We can now training using the best hyper-parameter selected above.  This takes a few minutes."
   ]
  },
  {
   "cell_type": "code",
   "execution_count": 31,
   "metadata": {},
   "outputs": [
    {
     "name": "stdout",
     "output_type": "stream",
     "text": [
      "Training...\n",
      "Training completed in 386.982542 seconds\n"
     ]
    }
   ],
   "source": [
    "t_ini = datetime.datetime.now()\n",
    "print('Training...')\n",
    "clf = LogisticRegression(C=20, solver='liblinear', random_state=13)\n",
    "clf.fit(X_train, y_train)\n",
    "t_fin = datetime.datetime.now()\n",
    "print('Training completed in {} seconds'.format((t_fin - t_ini).total_seconds()))"
   ]
  },
  {
   "cell_type": "markdown",
   "metadata": {},
   "source": [
    "# 1.2 Evaluation and Investigate Tagging Errors of the LR Tagger"
   ]
  },
  {
   "cell_type": "code",
   "execution_count": 32,
   "metadata": {},
   "outputs": [],
   "source": [
    "y_pred = clf.predict(X_test)"
   ]
  },
  {
   "cell_type": "code",
   "execution_count": 33,
   "metadata": {},
   "outputs": [
    {
     "name": "stdout",
     "output_type": "stream",
     "text": [
      "Accuracy: 0.9450\n",
      "f1-macro score: 0.9030\n"
     ]
    }
   ],
   "source": [
    "print(\"Accuracy: {0:.4f}\".format(clf.score(X_test, y_test)))\n",
    "print('f1-macro score: {0:.4f}'.format(f1_score(y_test, y_pred, average='macro')))"
   ]
  },
  {
   "cell_type": "markdown",
   "metadata": {},
   "source": [
    "## Classification Report"
   ]
  },
  {
   "cell_type": "code",
   "execution_count": 34,
   "metadata": {},
   "outputs": [
    {
     "name": "stdout",
     "output_type": "stream",
     "text": [
      "              precision    recall  f1-score   support\n",
      "\n",
      "         ADJ     0.9193    0.9013    0.9102      1794\n",
      "         ADP     0.9333    0.9586    0.9458      2030\n",
      "         ADV     0.9196    0.8893    0.9042      1183\n",
      "         AUX     0.9780    0.9812    0.9796      1543\n",
      "       CCONJ     0.9946    0.9932    0.9939       736\n",
      "         DET     0.9915    0.9895    0.9905      1896\n",
      "        INTJ     0.9709    0.8264    0.8929       121\n",
      "        NOUN     0.9032    0.9212    0.9121      4123\n",
      "         NUM     0.9743    0.9779    0.9761       542\n",
      "        PART     0.9784    0.9769    0.9776       649\n",
      "        PRON     0.9862    0.9875    0.9869      2166\n",
      "       PROPN     0.8824    0.8603    0.8712      2076\n",
      "       PUNCT     0.9913    0.9968    0.9940      3096\n",
      "       SCONJ     0.8521    0.8099    0.8304       384\n",
      "         SYM     0.8900    0.8165    0.8517       109\n",
      "        VERB     0.9458    0.9566    0.9512      2606\n",
      "           X     0.5000    0.3095    0.3824        42\n",
      "\n",
      "    accuracy                         0.9450     25096\n",
      "   macro avg     0.9183    0.8913    0.9030     25096\n",
      "weighted avg     0.9445    0.9450    0.9446     25096\n",
      "\n"
     ]
    }
   ],
   "source": [
    "print(classification_report(y_test, clf.predict(X_test), digits=4))"
   ]
  },
  {
   "cell_type": "markdown",
   "metadata": {},
   "source": [
    "## Frequent Types of Mistakes"
   ]
  },
  {
   "cell_type": "code",
   "execution_count": 35,
   "metadata": {},
   "outputs": [
    {
     "name": "stdout",
     "output_type": "stream",
     "text": [
      "Accuracy: 0.9450\n",
      "Total errors/Total words: 1381/25096\n",
      "\n",
      "Most common errors: [('that', 25), ('to', 24), ('as', 23), ('like', 22), ('out', 18), ('/', 18), ('for', 18), ('up', 17), ('in', 16), ('on', 12), ('01-Feb-02', 11), ('one', 9), ('-', 9), ('much', 9), ('so', 8), ('all', 7), ('have', 7), ('be', 7), ('of', 6), ('has', 6)]\n"
     ]
    }
   ],
   "source": [
    "import collections\n",
    "k=0\n",
    "i2w = id2word(test_sentences)\n",
    "error_counter = collections.Counter()\n",
    "for i in range(X_test.shape[0]):\n",
    "    correct_tag_id = y_test\n",
    "    if y_pred[i]!=y_test[i]:\n",
    "        k += 1\n",
    "        word = i2w[i]\n",
    "        error_counter[word] += 1\n",
    "print('Accuracy: {0:.4f}'.format((len(i2w)-k)/len(i2w)))\n",
    "print('Total errors/Total words: {}/{}\\n'.format(k,len(i2w)))\n",
    "print('Most common errors:',error_counter.most_common(20))"
   ]
  },
  {
   "cell_type": "markdown",
   "metadata": {},
   "source": [
    "## Learning Curves"
   ]
  },
  {
   "cell_type": "markdown",
   "metadata": {},
   "source": [
    "The following diagram illustrates the \"training dynamics\" of the LR model: how fast does it improve as it keeps training. Originally, the difference between the test dataset and the cross-validation (on part of the test data) is large; as training proceeds, the gap reduces. This diagram is important to verify we do not have a case of over-fitting - where the model does \"very well\" on training data and does not improve on test data.  \n",
    "\n",
    "This computation takes a long time (as we keep training and evaluating multiple times to obtain the snapshots). It is not necessary to run the rest of the notebook so that you can safely skip it."
   ]
  },
  {
   "cell_type": "code",
   "execution_count": null,
   "metadata": {},
   "outputs": [],
   "source": [
    "# plot_learning_curve(clf, 'Logistic Regression', X_train, y_train, ylim=(0.7, 1.01), cv=5)"
   ]
  },
  {
   "cell_type": "markdown",
   "metadata": {},
   "source": [
    "## Confusion Matrix"
   ]
  },
  {
   "cell_type": "code",
   "execution_count": 36,
   "metadata": {},
   "outputs": [
    {
     "data": {
      "image/png": "[encoded data removed]",
      "text/plain": [
       "<Figure size 1000x600 with 2 Axes>"
      ]
     },
     "metadata": {},
     "output_type": "display_data"
    }
   ],
   "source": [
    "y_pred = clf.predict(X_test)\n",
    "f1 = f1_score(y_test, y_pred, average='macro')\n",
    "cnf_matrix = confusion_matrix(y_test, y_pred)\n",
    "name='Logistic Regression'\n",
    "plot_confusion_matrix(f1, cnf_matrix, target_names=classes, title='Confusion matrix for '+name+' classifier', normalize=False)"
   ]
  },
  {
   "cell_type": "markdown",
   "metadata": {},
   "source": [
    "## Tag an Unknown Sentence"
   ]
  },
  {
   "cell_type": "markdown",
   "metadata": {},
   "source": [
    "Lets try our trained tagger on new sentences.  To tag a sentence given as a string, we must apply the following steps:\n",
    "* Tokenize the string into a list of tokens\n",
    "* Turn each token into a features dictionary (using the features used by our model)\n",
    "* Turn the list of feature dictionaries into vectors (using scikit-learn vectorization method)\n",
    "* Pass the resulting matrix (one row vector for each token) to the classifier."
   ]
  },
  {
   "cell_type": "code",
   "execution_count": 37,
   "metadata": {},
   "outputs": [
    {
     "name": "stderr",
     "output_type": "stream",
     "text": [
      "[nltk_data] Downloading package punkt_tab to\n",
      "[nltk_data]     C:\\Users\\liran\\AppData\\Roaming\\nltk_data...\n",
      "[nltk_data]   Package punkt_tab is already up-to-date!\n"
     ]
    },
    {
     "data": {
      "text/plain": [
       "True"
      ]
     },
     "execution_count": 37,
     "metadata": {},
     "output_type": "execute_result"
    }
   ],
   "source": [
    "# Need to download the nltk model for sentence tokenizer\n",
    "nltk.download('punkt_tab')"
   ]
  },
  {
   "cell_type": "code",
   "execution_count": 38,
   "metadata": {},
   "outputs": [
    {
     "name": "stdout",
     "output_type": "stream",
     "text": [
      "['Word', 'embeddings', 'provide', 'a', 'dense', 'representation', 'of', 'words', 'and', 'their', 'relative', 'meanings', '.']\n"
     ]
    }
   ],
   "source": [
    "tokens = nltk.word_tokenize('Word embeddings provide a dense representation of words and their relative meanings.')\n",
    "print(tokens)"
   ]
  },
  {
   "cell_type": "code",
   "execution_count": 39,
   "metadata": {},
   "outputs": [],
   "source": [
    "X_features = transform_test_sentence(tokens)"
   ]
  },
  {
   "cell_type": "code",
   "execution_count": 40,
   "metadata": {},
   "outputs": [],
   "source": [
    "X_vectorized = vec.transform([x[0] for x in X_features])"
   ]
  },
  {
   "cell_type": "code",
   "execution_count": 41,
   "metadata": {},
   "outputs": [
    {
     "data": {
      "text/plain": [
       "(13, 98724)"
      ]
     },
     "execution_count": 41,
     "metadata": {},
     "output_type": "execute_result"
    }
   ],
   "source": [
    "# The vectorized sentence is a sparse matrix with one row for each token and columns for the vectorized features\n",
    "# For example, if the vocabulary has 1000 unique words, the vectorized sentence will have 1000 columns for each word feature.\n",
    "# This is a very sparse matrix, where most of the values are zero.\n",
    "X_vectorized.shape"
   ]
  },
  {
   "cell_type": "code",
   "execution_count": 42,
   "metadata": {},
   "outputs": [],
   "source": [
    "pred = clf.predict(X_vectorized)"
   ]
  },
  {
   "cell_type": "code",
   "execution_count": 43,
   "metadata": {},
   "outputs": [
    {
     "name": "stdout",
     "output_type": "stream",
     "text": [
      "Here is what our LR tagger predicts for the test sentence:\n",
      " [('Word', np.str_('PROPN')), ('embeddings', np.str_('NOUN')), ('provide', np.str_('VERB')), ('a', np.str_('DET')), ('dense', np.str_('ADJ')), ('representation', np.str_('NOUN')), ('of', np.str_('ADP')), ('words', np.str_('NOUN')), ('and', np.str_('CCONJ')), ('their', np.str_('PRON')), ('relative', np.str_('ADJ')), ('meanings', np.str_('NOUN')), ('.', np.str_('PUNCT'))]\n"
     ]
    }
   ],
   "source": [
    "# np.str_ is a subclass of str that is used to represent string arrays in NumPy.\n",
    "print('Here is what our LR tagger predicts for the test sentence:\\n',list(zip(tokens, pred)))"
   ]
  },
  {
   "cell_type": "markdown",
   "metadata": {},
   "source": [
    "Let's turn this process into a prediction function from a sentence encoded as a single string to a list of pairs (token, predicted_tag):"
   ]
  },
  {
   "cell_type": "code",
   "execution_count": 44,
   "metadata": {},
   "outputs": [],
   "source": [
    "def predict_sentence(sentence):\n",
    "   tokens = nltk.word_tokenize(sentence)\n",
    "   X_features = transform_test_sentence(tokens)\n",
    "   X_vectorized = vec.transform([x[0] for x in X_features])\n",
    "   pred = clf.predict(X_vectorized)\n",
    "   return list(zip(tokens, pred))"
   ]
  },
  {
   "cell_type": "code",
   "execution_count": 45,
   "metadata": {},
   "outputs": [
    {
     "data": {
      "text/plain": [
       "[('Let', np.str_('VERB')),\n",
       " ('me', np.str_('PRON')),\n",
       " ('join', np.str_('VERB')),\n",
       " ('the', np.str_('DET')),\n",
       " ('chorus', np.str_('NOUN')),\n",
       " ('of', np.str_('ADP')),\n",
       " ('annoyance', np.str_('NOUN')),\n",
       " ('over', np.str_('ADP')),\n",
       " ('Google', np.str_('PROPN')),\n",
       " (\"'s\", np.str_('PART')),\n",
       " ('new', np.str_('ADJ')),\n",
       " ('toolbar', np.str_('NOUN')),\n",
       " (',', np.str_('PUNCT')),\n",
       " ('which', np.str_('PRON')),\n",
       " (',', np.str_('PUNCT')),\n",
       " ('as', np.str_('SCONJ')),\n",
       " ('noted', np.str_('VERB')),\n",
       " ('in', np.str_('ADP')),\n",
       " ('the', np.str_('DET')),\n",
       " ('linked', np.str_('VERB')),\n",
       " ('article', np.str_('NOUN')),\n",
       " (',', np.str_('PUNCT')),\n",
       " ('commits', np.str_('NOUN')),\n",
       " ('just', np.str_('ADV')),\n",
       " ('about', np.str_('ADV')),\n",
       " ('every', np.str_('DET')),\n",
       " ('sin', np.str_('VERB')),\n",
       " ('an', np.str_('DET')),\n",
       " ('online', np.str_('ADJ')),\n",
       " ('marketer', np.str_('NOUN')),\n",
       " ('could', np.str_('AUX')),\n",
       " ('commit', np.str_('VERB')),\n",
       " (',', np.str_('PUNCT')),\n",
       " ('and', np.str_('CCONJ')),\n",
       " ('makes', np.str_('VERB')),\n",
       " ('up', np.str_('ADP')),\n",
       " ('a', np.str_('DET')),\n",
       " ('few', np.str_('ADJ')),\n",
       " ('new', np.str_('ADJ')),\n",
       " ('ones', np.str_('NOUN')),\n",
       " ('besides', np.str_('ADP')),\n",
       " ('.', np.str_('PUNCT'))]"
      ]
     },
     "execution_count": 45,
     "metadata": {},
     "output_type": "execute_result"
    }
   ],
   "source": [
    "predict_sentence(\"Let me join the chorus of annoyance over Google's new toolbar , which, as noted in the linked article, commits just about every sin an online marketer could commit, and makes up a few new ones besides.\")"
   ]
  },
  {
   "cell_type": "markdown",
   "metadata": {},
   "source": [
    "# 1.2.1 - Collect Hard Sentences\n",
    "\n",
    "Hard sentences are sentences that contain multiple wrongly predicted tags given our classifier.\n",
    "\n",
    "Write code to collect hard sentences given a classifier clf."
   ]
  },
  {
   "cell_type": "code",
   "execution_count": 46,
   "metadata": {},
   "outputs": [],
   "source": [
    "def errors_in_sentence_prediction(clf, tagged_sentence):\n",
    "    \"\"\"Given a tagged sentence from the dataset, return the number of errors and the predicted tags.\"\"\"\n",
    "    errors = 0\n",
    "    untagged_sentence = untag(tagged_sentence)\n",
    "    untagged_pos_sentence = untag_pos(tagged_sentence)\n",
    "    x_features = transform_test_sentence(untagged_sentence)\n",
    "    x_vectorized = vec.transform([x[0] for x in x_features])\n",
    "    pred = clf.predict(x_vectorized)\n",
    "    for i in range(len(pred)):\n",
    "        if pred[i] != untagged_pos_sentence[i]:\n",
    "            errors += 1\n",
    "    return errors, pred"
   ]
  },
  {
   "cell_type": "code",
   "execution_count": 47,
   "metadata": {},
   "outputs": [
    {
     "name": "stdout",
     "output_type": "stream",
     "text": [
      "Number of sentences with errors: 804 out of 2077\n"
     ]
    }
   ],
   "source": [
    "hard_sentences = []\n",
    "for obj_s, org_s in zip(test_sentences, test_original):\n",
    "    errors, pred = errors_in_sentence_prediction(clf, obj_s)\n",
    "    if 0 < errors :\n",
    "        hard_sentences.append((org_s, obj_s, errors, pred))\n",
    "print(f'Number of sentences with errors: {len(hard_sentences)} out of {len(test_sentences)}')"
   ]
  },
  {
   "cell_type": "code",
   "execution_count": 48,
   "metadata": {},
   "outputs": [
    {
     "name": "stdout",
     "output_type": "stream",
     "text": [
      "Hard sentences exported to hard_sentences.json\n"
     ]
    }
   ],
   "source": [
    "import json\n",
    "\n",
    "# Export hard sentences to a file\n",
    "output_file = \"hard_sentences.json\"\n",
    "\n",
    "hard_sentences_data = []\n",
    "for org_s, obj_s, errors, pred in hard_sentences:\n",
    "    hard_sentences_data.append({\n",
    "        \"sentence\": org_s,\n",
    "        \"gt_sentence\": obj_s,\n",
    "        \"errors\": errors,\n",
    "        \"predictions\": pred.tolist()  # Convert NumPy array to a Python list\n",
    "    })\n",
    "\n",
    "with open(output_file, \"w\", encoding=\"utf-8\") as f:\n",
    "    json.dump(hard_sentences_data, f, indent=4, ensure_ascii=False)\n",
    "\n",
    "print(f\"Hard sentences exported to {output_file}\")"
   ]
  },
  {
   "cell_type": "markdown",
   "metadata": {},
   "source": [
    "### 1.2.2 - Histogram showing how the sentences in the test dataset are distributed in terms of prediction errors per sentence."
   ]
  },
  {
   "cell_type": "code",
   "execution_count": 49,
   "metadata": {},
   "outputs": [
    {
     "data": {
      "image/png": "[encoded data removed]",
      "text/plain": [
       "<Figure size 1000x600 with 1 Axes>"
      ]
     },
     "metadata": {},
     "output_type": "display_data"
    }
   ],
   "source": [
    "# Draw a histogram of the number of errors per sentence\n",
    "plt.figure(figsize=(10, 6))\n",
    "plt.hist([x[2] for x in hard_sentences], bins=16, edgecolor='black')\n",
    "plt.title('Number of errors per sentence')\n",
    "plt.xlabel('Number of errors')\n",
    "plt.ylabel('Number of sentences')\n",
    "plt.grid(axis='y', alpha=0.75)\n",
    "plt.show()"
   ]
  },
  {
   "cell_type": "code",
   "execution_count": 54,
   "metadata": {},
   "outputs": [
    {
     "name": "stdout",
     "output_type": "stream",
     "text": [
      "Stay with me now : John Paul STEVENS delivered the opinion of the Court with respect to Parts I through IV , VI through VI - D - iii , VI - D - v , and VII , in which KENNEDY , SOUTER , GINSBURG , and BREYER joined , and an opinion with respect to Parts V and VI - D - iv , in which SOUTER , GINSBURG , and BREYER joined .\n",
      "Number of errors: 8\n",
      "Stay                     VERB        \n",
      "with                     ADP         \n",
      "me                       PRON        \n",
      "now                      ADV         \n",
      ":                        PUNCT       \n",
      "John                     PROPN       \n",
      "Paul                     PROPN       \n",
      "STEVENS               C: PROPN         P: NOUN         **** Error\n",
      "delivered                VERB        \n",
      "the                      DET         \n",
      "opinion                  NOUN        \n",
      "of                       ADP         \n",
      "the                      DET         \n",
      "Court                    NOUN        \n",
      "with                     ADP         \n",
      "respect                  NOUN        \n",
      "to                       ADP         \n",
      "Parts                 C: NOUN          P: PROPN        **** Error\n",
      "I                     C: NUM           P: PRON         **** Error\n",
      "through                  ADP         \n",
      "IV                    C: NUM           P: NOUN         **** Error\n",
      ",                        PUNCT       \n",
      "VI                       NUM         \n",
      "through                  ADP         \n",
      "VI                       NUM         \n",
      "-                        PUNCT       \n",
      "D                        NOUN        \n",
      "-                        PUNCT       \n",
      "iii                   C: NUM           P: NOUN         **** Error\n",
      ",                        PUNCT       \n",
      "VI                       NUM         \n",
      "-                        PUNCT       \n",
      "D                        NOUN        \n",
      "-                        PUNCT       \n",
      "v                     C: NUM           P: NOUN         **** Error\n",
      ",                        PUNCT       \n",
      "and                      CCONJ       \n",
      "VII                      NUM         \n",
      ",                        PUNCT       \n",
      "in                       ADP         \n",
      "which                    PRON        \n",
      "KENNEDY                  PROPN       \n",
      ",                        PUNCT       \n",
      "SOUTER                   PROPN       \n",
      ",                        PUNCT       \n",
      "GINSBURG                 PROPN       \n",
      ",                        PUNCT       \n",
      "and                      CCONJ       \n",
      "BREYER                   PROPN       \n",
      "joined                   VERB        \n",
      ",                        PUNCT       \n",
      "and                      CCONJ       \n",
      "an                       DET         \n",
      "opinion                  NOUN        \n",
      "with                     ADP         \n",
      "respect                  NOUN        \n",
      "to                       ADP         \n",
      "Parts                 C: NOUN          P: PROPN        **** Error\n",
      "V                        NUM         \n",
      "and                      CCONJ       \n",
      "VI                       NUM         \n",
      "-                        PUNCT       \n",
      "D                        NOUN        \n",
      "-                        PUNCT       \n",
      "iv                    C: NUM           P: NOUN         **** Error\n",
      ",                        PUNCT       \n",
      "in                       ADP         \n",
      "which                    PRON        \n",
      "SOUTER                   PROPN       \n",
      ",                        PUNCT       \n",
      "GINSBURG                 PROPN       \n",
      ",                        PUNCT       \n",
      "and                      CCONJ       \n",
      "BREYER                   PROPN       \n",
      "joined                   VERB        \n",
      ".                        PUNCT       \n",
      "========================================\n",
      "It does n't change the company 's intrinsic worth , and as the article notes , the company might be added to a major index once the shares get more liquid .\n",
      "Number of errors: 6\n",
      "It                       PRON        \n",
      "does                     AUX         \n",
      "n't                      PART        \n",
      "change                   VERB        \n",
      "the                      DET         \n",
      "company                  NOUN        \n",
      "'s                       PART        \n",
      "intrinsic             C: ADJ           P: NOUN         **** Error\n",
      "worth                 C: NOUN          P: ADJ          **** Error\n",
      ",                        PUNCT       \n",
      "and                      CCONJ       \n",
      "as                    C: SCONJ         P: ADP          **** Error\n",
      "the                      DET         \n",
      "article                  NOUN        \n",
      "notes                 C: VERB          P: NOUN         **** Error\n",
      ",                        PUNCT       \n",
      "the                      DET         \n",
      "company                  NOUN        \n",
      "might                    AUX         \n",
      "be                       AUX         \n",
      "added                    VERB        \n",
      "to                       ADP         \n",
      "a                        DET         \n",
      "major                    ADJ         \n",
      "index                    NOUN        \n",
      "once                     SCONJ       \n",
      "the                      DET         \n",
      "shares                   NOUN        \n",
      "get                      VERB        \n",
      "more                  C: ADV           P: ADJ          **** Error\n",
      "liquid                C: ADJ           P: NOUN         **** Error\n",
      ".                        PUNCT       \n",
      "========================================\n",
      "Magali Van Belle Consultant PHB Hagler Bailly MANAGEMENT AND ECONOMIC CONSULTANTS PHB Hagler Bailly , Inc. ( 202 ) 828-3933 direct dial 1776 Eye Street , N.W. ( 202 ) 296-3858 facsimile Washington , D.C. 20006-3700 mvanbell@haglerbailly.com e-mail\n",
      "Number of errors: 6\n",
      "Magali                   PROPN       \n",
      "Van                      PROPN       \n",
      "Belle                    PROPN       \n",
      "Consultant            C: NOUN          P: PROPN        **** Error\n",
      "PHB                      PROPN       \n",
      "Hagler                   PROPN       \n",
      "Bailly                C: PROPN         P: ADV          **** Error\n",
      "MANAGEMENT            C: PROPN         P: ADJ          **** Error\n",
      "AND                      CCONJ       \n",
      "ECONOMIC                 PROPN       \n",
      "CONSULTANTS           C: PROPN         P: NOUN         **** Error\n",
      "PHB                      PROPN       \n",
      "Hagler                   PROPN       \n",
      "Bailly                C: PROPN         P: ADV          **** Error\n",
      ",                        PUNCT       \n",
      "Inc.                     PROPN       \n",
      "(                        PUNCT       \n",
      "202                      NUM         \n",
      ")                        PUNCT       \n",
      "828-3933                 NUM         \n",
      "direct                   ADJ         \n",
      "dial                  C: NOUN          P: VERB         **** Error\n",
      "1776                     NUM         \n",
      "Eye                      PROPN       \n",
      "Street                   PROPN       \n",
      ",                        PUNCT       \n",
      "N.W.                     PROPN       \n",
      "(                        PUNCT       \n",
      "202                      NUM         \n",
      ")                        PUNCT       \n",
      "296-3858                 NUM         \n",
      "facsimile                NOUN        \n",
      "Washington               PROPN       \n",
      ",                        PUNCT       \n",
      "D.C.                     PROPN       \n",
      "20006-3700               NUM         \n",
      "mvanbell@haglerbailly.com  PROPN       \n",
      "e-mail                   NOUN        \n",
      "========================================\n",
      "- Ram Tackett ( E-mail ) .vcf 4222\n",
      "Number of errors: 6\n",
      "-                        PUNCT       \n",
      "Ram                   C: NOUN          P: PROPN        **** Error\n",
      "Tackett               C: X             P: PROPN        **** Error\n",
      "(                     C: X             P: PUNCT        **** Error\n",
      "E-mail                C: X             P: NOUN         **** Error\n",
      ")                     C: X             P: PUNCT        **** Error\n",
      ".vcf                  C: X             P: PUNCT        **** Error\n",
      "4222                     NUM         \n",
      "========================================\n",
      "Attached are clean and blacklined drafts of the Enron guaranties to be made in support of EPMI 's obligations under the Indian Mesa II Renewable Energy Purchase Agreement ( \" PPA \" ) and Green Premium Sharing Agreement ( \" GSPA \" ) .?\n",
      "Number of errors: 6\n",
      "Attached                 VERB        \n",
      "are                      AUX         \n",
      "clean                    ADJ         \n",
      "and                      CCONJ       \n",
      "blacklined               VERB        \n",
      "drafts                   NOUN        \n",
      "of                       ADP         \n",
      "the                      DET         \n",
      "Enron                    PROPN       \n",
      "guaranties               NOUN        \n",
      "to                       PART        \n",
      "be                       AUX         \n",
      "made                     VERB        \n",
      "in                       ADP         \n",
      "support                  NOUN        \n",
      "of                       ADP         \n",
      "EPMI                     PROPN       \n",
      "'s                       PART        \n",
      "obligations              NOUN        \n",
      "under                    ADP         \n",
      "the                      DET         \n",
      "Indian                   ADJ         \n",
      "Mesa                     PROPN       \n",
      "II                       NUM         \n",
      "Renewable                ADJ         \n",
      "Energy                C: PROPN         P: NOUN         **** Error\n",
      "Purchase              C: PROPN         P: NOUN         **** Error\n",
      "Agreement             C: PROPN         P: NOUN         **** Error\n",
      "(                        PUNCT       \n",
      "\"                        PUNCT       \n",
      "PPA                   C: PROPN         P: NOUN         **** Error\n",
      "\"                        PUNCT       \n",
      ")                        PUNCT       \n",
      "and                      CCONJ       \n",
      "Green                    ADJ         \n",
      "Premium                  PROPN       \n",
      "Sharing               C: PROPN         P: VERB         **** Error\n",
      "Agreement             C: PROPN         P: NOUN         **** Error\n",
      "(                        PUNCT       \n",
      "\"                        PUNCT       \n",
      "GSPA                     PROPN       \n",
      "\"                        PUNCT       \n",
      ")                        PUNCT       \n",
      ".?                       PUNCT       \n",
      "========================================\n",
      "We have started a new forum for an interactive and absorbing discussion on Astrology & Palmistry and everything in between including Gemology , Feng Shui / Vaastu Shastra .\n",
      "Number of errors: 9\n",
      "We                       PRON        \n",
      "have                     AUX         \n",
      "started                  VERB        \n",
      "a                        DET         \n",
      "new                      ADJ         \n",
      "forum                    NOUN        \n",
      "for                      ADP         \n",
      "an                       DET         \n",
      "interactive              ADJ         \n",
      "and                      CCONJ       \n",
      "absorbing             C: ADJ           P: VERB         **** Error\n",
      "discussion               NOUN        \n",
      "on                       ADP         \n",
      "Astrology             C: NOUN          P: PROPN        **** Error\n",
      "&                        CCONJ       \n",
      "Palmistry             C: NOUN          P: PROPN        **** Error\n",
      "and                      CCONJ       \n",
      "everything               PRON        \n",
      "in                       ADP         \n",
      "between                  ADP         \n",
      "including                VERB        \n",
      "Gemology              C: NOUN          P: PROPN        **** Error\n",
      ",                        PUNCT       \n",
      "Feng                  C: NOUN          P: PROPN        **** Error\n",
      "Shui                  C: NOUN          P: PROPN        **** Error\n",
      "/                     C: SYM           P: PUNCT        **** Error\n",
      "Vaastu                C: NOUN          P: PROPN        **** Error\n",
      "Shastra               C: NOUN          P: PROPN        **** Error\n",
      ".                        PUNCT       \n",
      "========================================\n",
      "Twinkle Twinkle lazy star Kitna soyega uthja yaar , up above the world so high , sun has risen in the sky , uthke jaldi pee le chai , then call me up and say \" HI \"\n",
      "Number of errors: 15\n",
      "Twinkle               C: VERB          P: PROPN        **** Error\n",
      "Twinkle               C: VERB          P: PROPN        **** Error\n",
      "lazy                     ADJ         \n",
      "star                     NOUN        \n",
      "Kitna                 C: X             P: PROPN        **** Error\n",
      "soyega                C: X             P: PROPN        **** Error\n",
      "uthja                 C: X             P: NOUN         **** Error\n",
      "yaar                  C: X             P: NOUN         **** Error\n",
      ",                        PUNCT       \n",
      "up                    C: ADV           P: ADP          **** Error\n",
      "above                    ADP         \n",
      "the                      DET         \n",
      "world                    NOUN        \n",
      "so                       ADV         \n",
      "high                  C: ADV           P: ADJ          **** Error\n",
      ",                        PUNCT       \n",
      "sun                      NOUN        \n",
      "has                   C: AUX           P: VERB         **** Error\n",
      "risen                    VERB        \n",
      "in                       ADP         \n",
      "the                      DET         \n",
      "sky                      NOUN        \n",
      ",                        PUNCT       \n",
      "uthke                 C: X             P: ADJ          **** Error\n",
      "jaldi                 C: X             P: PROPN        **** Error\n",
      "pee                   C: X             P: NOUN         **** Error\n",
      "le                    C: X             P: NOUN         **** Error\n",
      "chai                  C: X             P: NOUN         **** Error\n",
      ",                        PUNCT       \n",
      "then                     ADV         \n",
      "call                     VERB        \n",
      "me                       PRON        \n",
      "up                       ADP         \n",
      "and                      CCONJ       \n",
      "say                      VERB        \n",
      "\"                        PUNCT       \n",
      "HI                    C: INTJ          P: NOUN         **** Error\n",
      "\"                        PUNCT       \n",
      "========================================\n",
      "You will always find fascinating links at : Extreme Web Surfs http://extremewebsurfs.blogspot.com/ ( nice urban wildlife post today ) & Me and the Web http://maartenvt.blogspot.com/ Arts , History , Animals , Music , Games , Politics , Technology , Fun and more !\n",
      "Number of errors: 9\n",
      "You                      PRON        \n",
      "will                     AUX         \n",
      "always                   ADV         \n",
      "find                     VERB        \n",
      "fascinating              ADJ         \n",
      "links                    NOUN        \n",
      "at                       ADP         \n",
      ":                        PUNCT       \n",
      "Extreme                  ADJ         \n",
      "Web                   C: PROPN         P: NOUN         **** Error\n",
      "Surfs                 C: PROPN         P: NOUN         **** Error\n",
      "http://extremewebsurfs.blogspot.com/  PROPN       \n",
      "(                        PUNCT       \n",
      "nice                     ADJ         \n",
      "urban                    ADJ         \n",
      "wildlife                 NOUN        \n",
      "post                  C: NOUN          P: VERB         **** Error\n",
      "today                    NOUN        \n",
      ")                        PUNCT       \n",
      "&                        CCONJ       \n",
      "Me                       PRON        \n",
      "and                      CCONJ       \n",
      "the                      DET         \n",
      "Web                   C: PROPN         P: NOUN         **** Error\n",
      "http://maartenvt.blogspot.com/  PROPN       \n",
      "Arts                  C: NOUN          P: PROPN        **** Error\n",
      ",                        PUNCT       \n",
      "History                  NOUN        \n",
      ",                        PUNCT       \n",
      "Animals                  NOUN        \n",
      ",                        PUNCT       \n",
      "Music                 C: NOUN          P: PROPN        **** Error\n",
      ",                        PUNCT       \n",
      "Games                    NOUN        \n",
      ",                        PUNCT       \n",
      "Politics              C: NOUN          P: PROPN        **** Error\n",
      ",                        PUNCT       \n",
      "Technology            C: NOUN          P: PROPN        **** Error\n",
      ",                        PUNCT       \n",
      "Fun                   C: NOUN          P: PROPN        **** Error\n",
      "and                      CCONJ       \n",
      "more                     ADJ         \n",
      "!                        PUNCT       \n",
      "========================================\n",
      "WE HAVE A DATE FOR THE RELEASE OF RAGNAROK ONLINE 2 ( beta anyway ) September 16 - 18 , this was announced by Gravity CEO Kim Jung - Ryool on either 16th or 17th of july and as i do n't want to take someone 's credit's i got it here ^^ GameSpot\n",
      "Number of errors: 7\n",
      "WE                       PRON        \n",
      "HAVE                     VERB        \n",
      "A                        DET         \n",
      "DATE                     NOUN        \n",
      "FOR                      ADP         \n",
      "THE                      DET         \n",
      "RELEASE                  NOUN        \n",
      "OF                       ADP         \n",
      "RAGNAROK                 PROPN       \n",
      "ONLINE                C: ADJ           P: NOUN         **** Error\n",
      "2                        NUM         \n",
      "(                        PUNCT       \n",
      "beta                     NOUN        \n",
      "anyway                   ADV         \n",
      ")                        PUNCT       \n",
      "September                PROPN       \n",
      "16                       NUM         \n",
      "-                     C: SYM           P: PUNCT        **** Error\n",
      "18                       NUM         \n",
      ",                        PUNCT       \n",
      "this                     PRON        \n",
      "was                      AUX         \n",
      "announced                VERB        \n",
      "by                       ADP         \n",
      "Gravity               C: PROPN         P: NOUN         **** Error\n",
      "CEO                      NOUN        \n",
      "Kim                      PROPN       \n",
      "Jung                     PROPN       \n",
      "-                        PUNCT       \n",
      "Ryool                    PROPN       \n",
      "on                       ADP         \n",
      "either                   CCONJ       \n",
      "16th                  C: NOUN          P: ADJ          **** Error\n",
      "or                       CCONJ       \n",
      "17th                  C: NOUN          P: ADJ          **** Error\n",
      "of                       ADP         \n",
      "july                  C: PROPN         P: ADV          **** Error\n",
      "and                      CCONJ       \n",
      "as                       SCONJ       \n",
      "i                        PRON        \n",
      "do                       AUX         \n",
      "n't                      PART        \n",
      "want                     VERB        \n",
      "to                       PART        \n",
      "take                     VERB        \n",
      "someone                  PRON        \n",
      "'s                       PART        \n",
      "credit's                 NOUN        \n",
      "i                        PRON        \n",
      "got                      VERB        \n",
      "it                       PRON        \n",
      "here                     ADV         \n",
      "^^                    C: SYM           P: PUNCT        **** Error\n",
      "GameSpot                 PROPN       \n",
      "========================================\n",
      "which burger chain do you think is as good as in n out or better in the chicago area besides five guys and smashburger ?\n",
      "Number of errors: 7\n",
      "which                 C: DET           P: PRON         **** Error\n",
      "burger                   NOUN        \n",
      "chain                    NOUN        \n",
      "do                       AUX         \n",
      "you                      PRON        \n",
      "think                    VERB        \n",
      "is                       AUX         \n",
      "as                       ADV         \n",
      "good                     ADJ         \n",
      "as                       ADP         \n",
      "in                    C: PROPN         P: ADV          **** Error\n",
      "n                     C: CCONJ         P: PART         **** Error\n",
      "out                   C: PROPN         P: ADV          **** Error\n",
      "or                       CCONJ       \n",
      "better                   ADJ         \n",
      "in                       ADP         \n",
      "the                      DET         \n",
      "chicago                  PROPN       \n",
      "area                     NOUN        \n",
      "besides                  ADP         \n",
      "five                  C: PROPN         P: NUM          **** Error\n",
      "guys                  C: PROPN         P: NOUN         **** Error\n",
      "and                      CCONJ       \n",
      "smashburger           C: PROPN         P: ADJ          **** Error\n",
      "?                        PUNCT       \n",
      "========================================\n",
      "I 've been looking at the bose sound dock 10 i ve currently got a jvc mini hifi system , i was wondering what would be a good set of speakers .\n",
      "Number of errors: 6\n",
      "I                        PRON        \n",
      "'ve                      AUX         \n",
      "been                     AUX         \n",
      "looking                  VERB        \n",
      "at                       ADP         \n",
      "the                      DET         \n",
      "bose                  C: PROPN         P: NOUN         **** Error\n",
      "sound                 C: PROPN         P: NOUN         **** Error\n",
      "dock                  C: PROPN         P: NOUN         **** Error\n",
      "10                       NUM         \n",
      "i                        PRON        \n",
      "ve                    C: AUX           P: VERB         **** Error\n",
      "currently                ADV         \n",
      "got                      VERB        \n",
      "a                        DET         \n",
      "jvc                   C: PROPN         P: NOUN         **** Error\n",
      "mini                  C: X             P: ADJ          **** Error\n",
      "hifi                     NOUN        \n",
      "system                   NOUN        \n",
      ",                        PUNCT       \n",
      "i                        PRON        \n",
      "was                      AUX         \n",
      "wondering                VERB        \n",
      "what                     PRON        \n",
      "would                    AUX         \n",
      "be                       AUX         \n",
      "a                        DET         \n",
      "good                     ADJ         \n",
      "set                      NOUN        \n",
      "of                       ADP         \n",
      "speakers                 NOUN        \n",
      ".                        PUNCT       \n",
      "========================================\n",
      "any Ice Cream In NZ no matter where as New Zealand has the best bl**dy ice cream in the world I was in NZ for a few weeks had some Ice Cream and really enjoyed it I will go back just to eat some Ice Cream\n",
      "Number of errors: 7\n",
      "any                      DET         \n",
      "Ice                   C: NOUN          P: PROPN        **** Error\n",
      "Cream                 C: NOUN          P: PROPN        **** Error\n",
      "In                       ADP         \n",
      "NZ                       PROPN       \n",
      "no                       DET         \n",
      "matter                   NOUN        \n",
      "where                    ADV         \n",
      "as                    C: SCONJ         P: ADP          **** Error\n",
      "New                      ADJ         \n",
      "Zealand                  PROPN       \n",
      "has                      VERB        \n",
      "the                      DET         \n",
      "best                     ADJ         \n",
      "bl**dy                   ADJ         \n",
      "ice                      NOUN        \n",
      "cream                    NOUN        \n",
      "in                       ADP         \n",
      "the                      DET         \n",
      "world                    NOUN        \n",
      "I                        PRON        \n",
      "was                      AUX         \n",
      "in                       ADP         \n",
      "NZ                       PROPN       \n",
      "for                      ADP         \n",
      "a                        DET         \n",
      "few                      ADJ         \n",
      "weeks                    NOUN        \n",
      "had                      VERB        \n",
      "some                     DET         \n",
      "Ice                   C: NOUN          P: ADJ          **** Error\n",
      "Cream                 C: NOUN          P: PROPN        **** Error\n",
      "and                      CCONJ       \n",
      "really                   ADV         \n",
      "enjoyed                  VERB        \n",
      "it                       PRON        \n",
      "I                        PRON        \n",
      "will                     AUX         \n",
      "go                       VERB        \n",
      "back                     ADV         \n",
      "just                     ADV         \n",
      "to                       PART        \n",
      "eat                      VERB        \n",
      "some                     DET         \n",
      "Ice                   C: NOUN          P: ADJ          **** Error\n",
      "Cream                 C: NOUN          P: PROPN        **** Error\n",
      "========================================\n",
      "which is the best burger chain in the chicago metro area like for example burger king portillo s white castle which one do you like the best ?\n",
      "Number of errors: 9\n",
      "which                    PRON        \n",
      "is                       AUX         \n",
      "the                      DET         \n",
      "best                     ADJ         \n",
      "burger                   NOUN        \n",
      "chain                    NOUN        \n",
      "in                       ADP         \n",
      "the                      DET         \n",
      "chicago                  PROPN       \n",
      "metro                 C: ADJ           P: PROPN        **** Error\n",
      "area                     NOUN        \n",
      "like                  C: INTJ          P: ADP          **** Error\n",
      "for                      ADP         \n",
      "example                  NOUN        \n",
      "burger                C: PROPN         P: NOUN         **** Error\n",
      "king                  C: PROPN         P: NOUN         **** Error\n",
      "portillo              C: PROPN         P: NOUN         **** Error\n",
      "s                        PART        \n",
      "white                    ADJ         \n",
      "castle                C: PROPN         P: NOUN         **** Error\n",
      "which                 C: DET           P: PRON         **** Error\n",
      "one                   C: NOUN          P: PRON         **** Error\n",
      "do                       AUX         \n",
      "you                      PRON        \n",
      "like                     VERB        \n",
      "the                      DET         \n",
      "best                  C: ADV           P: ADJ          **** Error\n",
      "?                        PUNCT       \n",
      "========================================\n",
      "My canon t2i stops working at times as in the power bottom is switched to \" on \" but the camera does not respond to any function .\n",
      "Number of errors: 6\n",
      "My                       PRON        \n",
      "canon                 C: PROPN         P: NOUN         **** Error\n",
      "t2i                      PROPN       \n",
      "stops                 C: VERB          P: NOUN         **** Error\n",
      "working                  VERB        \n",
      "at                       ADP         \n",
      "times                    NOUN        \n",
      "as                    C: SCONJ         P: ADP          **** Error\n",
      "in                    C: SCONJ         P: ADP          **** Error\n",
      "the                      DET         \n",
      "power                    NOUN        \n",
      "bottom                   NOUN        \n",
      "is                       AUX         \n",
      "switched                 VERB        \n",
      "to                    C: ADP           P: PART         **** Error\n",
      "\"                        PUNCT       \n",
      "on                    C: NOUN          P: ADP          **** Error\n",
      "\"                        PUNCT       \n",
      "but                      CCONJ       \n",
      "the                      DET         \n",
      "camera                   NOUN        \n",
      "does                     AUX         \n",
      "not                      PART        \n",
      "respond                  VERB        \n",
      "to                       ADP         \n",
      "any                      DET         \n",
      "function                 NOUN        \n",
      ".                        PUNCT       \n",
      "========================================\n",
      "Here is the stocking for my 150 gallon tank i upgraded it to 200 at the weekend because of the clownloach A 200 gallon with 6 pairs of Breeding Angel fish fire mouth honey Gouramis 5 8 inch clownloach a Krib and 5 1 inch clown loach with 16 cory cats 5 Australian Rainbows\n",
      "Number of errors: 6\n",
      "Here                     ADV         \n",
      "is                       AUX         \n",
      "the                      DET         \n",
      "stocking                 NOUN        \n",
      "for                      ADP         \n",
      "my                       PRON        \n",
      "150                      NUM         \n",
      "gallon                   NOUN        \n",
      "tank                     NOUN        \n",
      "i                        PRON        \n",
      "upgraded                 VERB        \n",
      "it                       PRON        \n",
      "to                       ADP         \n",
      "200                      NUM         \n",
      "at                       ADP         \n",
      "the                      DET         \n",
      "weekend                  NOUN        \n",
      "because                  ADP         \n",
      "of                       ADP         \n",
      "the                      DET         \n",
      "clownloach               NOUN        \n",
      "A                        DET         \n",
      "200                      NUM         \n",
      "gallon                   NOUN        \n",
      "with                     ADP         \n",
      "6                        NUM         \n",
      "pairs                    NOUN        \n",
      "of                       ADP         \n",
      "Breeding              C: NOUN          P: PROPN        **** Error\n",
      "Angel                 C: NOUN          P: PROPN        **** Error\n",
      "fish                     NOUN        \n",
      "fire                     NOUN        \n",
      "mouth                    NOUN        \n",
      "honey                    NOUN        \n",
      "Gouramis              C: NOUN          P: PROPN        **** Error\n",
      "5                        NUM         \n",
      "8                        NUM         \n",
      "inch                     NOUN        \n",
      "clownloach               NOUN        \n",
      "a                        DET         \n",
      "Krib                  C: NOUN          P: PROPN        **** Error\n",
      "and                      CCONJ       \n",
      "5                        NUM         \n",
      "1                        NUM         \n",
      "inch                     NOUN        \n",
      "clown                 C: NOUN          P: ADJ          **** Error\n",
      "loach                    NOUN        \n",
      "with                     ADP         \n",
      "16                       NUM         \n",
      "cory                     NOUN        \n",
      "cats                     NOUN        \n",
      "5                        NUM         \n",
      "Australian               ADJ         \n",
      "Rainbows              C: NOUN          P: PROPN        **** Error\n",
      "========================================\n"
     ]
    }
   ],
   "source": [
    "import json\n",
    "from pathlib import Path\n",
    "\n",
    "# Load the new-format hard_sentences file\n",
    "path = Path(\"hard_sentences.json\")  # adjust if needed\n",
    "with path.open(\"r\", encoding=\"utf-8\") as f:\n",
    "    hard_sentences = json.load(f)\n",
    "\n",
    "def tokens_and_tags(gt_sentence):\n",
    "    tokens = [tok for tok, tag in gt_sentence]\n",
    "    gold = [tag for tok, tag in gt_sentence]\n",
    "    return tokens, gold\n",
    "\n",
    "def safe_zip_longest(tokens, gold, preds):\n",
    "    n = max(len(tokens), len(gold), len(preds))\n",
    "    def get(lst, i, default=\"—\"):\n",
    "        return lst[i] if i < len(lst) else default\n",
    "    for i in range(n):\n",
    "        yield get(tokens, i), get(gold, i), get(preds, i)\n",
    "\n",
    "# Show prediction errors for sentences with more than 5 errors\n",
    "for s in hard_sentences:\n",
    "    num_errors = s.get(\"errors\", 0)\n",
    "    if num_errors > 5:\n",
    "        tokens, gold = tokens_and_tags(s[\"gt_sentence\"])\n",
    "        preds = s[\"predictions\"]\n",
    "\n",
    "        print(\" \".join(tokens))\n",
    "        print(\"Number of errors:\", num_errors)\n",
    "        if len(preds) != len(gold):\n",
    "            print(f\"WARNING: length mismatch (gold={len(gold)}, preds={len(preds)})\")\n",
    "\n",
    "        for tok, g, p in safe_zip_longest(tokens, gold, preds):\n",
    "            if g != p:\n",
    "                print(f\"{tok:<20}  C: {g:<12}  P: {p:<12} **** Error\")\n",
    "            else:\n",
    "                print(f\"{tok:<23}  {g:<12}\")\n",
    "        print(\"=\" * 40)"
   ]
  },
  {
   "cell_type": "markdown",
   "metadata": {},
   "source": [
    "## "
   ]
  },
  {
   "cell_type": "markdown",
   "metadata": {},
   "source": [
    "## Error Analysis\n"
   ]
  },
  {
   "cell_type": "markdown",
   "metadata": {},
   "source": [
    "### 1.2.3 - Error Analysis - list of the misclassefied tokens with more then 10 misclassifications"
   ]
  },
  {
   "cell_type": "code",
   "execution_count": 55,
   "metadata": {},
   "outputs": [
    {
     "name": "stdout",
     "output_type": "stream",
     "text": [
      "Token: out, Misclassified 18 times\n",
      "Token: on, Misclassified 12 times\n",
      "Token: as, Misclassified 23 times\n",
      "Token: to, Misclassified 24 times\n",
      "Token: /, Misclassified 18 times\n",
      "Token: that, Misclassified 25 times\n",
      "Token: for, Misclassified 18 times\n",
      "Token: up, Misclassified 17 times\n",
      "Token: like, Misclassified 22 times\n",
      "Token: in, Misclassified 16 times\n",
      "Token: 01-Feb-02, Misclassified 11 times\n"
     ]
    }
   ],
   "source": [
    "def token_misclassified(clf, tagged_sentences):\n",
    "    \"\"\"\n",
    "    Given a list of tagged sentences, return a dictionary mapping tokens to the number of times they were misclassified.\n",
    "    \"\"\"\n",
    "    from collections import Counter\n",
    "    token_errors = Counter()\n",
    "\n",
    "    for tagged_sentence in tagged_sentences:\n",
    "        errors, pred = errors_in_sentence_prediction(clf, tagged_sentence)\n",
    "        untagged_sentence = untag(tagged_sentence)\n",
    "        untagged_pos_sentence = untag_pos(tagged_sentence)\n",
    "\n",
    "        for i in range(len(pred)):\n",
    "            if pred[i] != untagged_pos_sentence[i]:\n",
    "                token_errors[untagged_sentence[i]] += 1\n",
    "\n",
    "    return token_errors\n",
    "token_errors = token_misclassified(clf, test_sentences)\n",
    "for token, count in token_errors.items():\n",
    "    if count > 10:\n",
    "        print(f'Token: {token}, Misclassified {count} times')"
   ]
  },
  {
   "cell_type": "markdown",
   "metadata": {},
   "source": [
    "### 1.2.3 Error anaylsis - list of the sentenceses of the misclassefied tokens with more then 10 misclassifications"
   ]
  },
  {
   "cell_type": "code",
   "execution_count": 56,
   "metadata": {},
   "outputs": [
    {
     "name": "stdout",
     "output_type": "stream",
     "text": [
      "number of misclassefied sentences: 94\n",
      "Attached is a spreadsheet that contains the values .\n",
      "i tried to say i was n't that drunk but z was n't having any of that conversation .\n",
      "We will forward the draft of that guaranty to you later today .\n",
      "This morning 's paper reports that a rate increase of 40 % may be imposed by the CDWR as early as today and the new bond issue amount is purported to be 16 billion ( rather than the 10 initially discussed )\n",
      "This morning 's paper reports that a rate increase of 40 % may be imposed by the CDWR as early as today and the new bond issue amount is purported to be 16 billion ( rather than the 10 initially discussed )\n",
      "Please confidentially share matters as you think best and advise me of the interest generated .\n",
      "We still have the traders and books that you provided last week , but need to know if there are any changes to this .\n",
      "Unfortunately , I will be in Plano that weekend .\n",
      "EY4108.I PERFORMANCE 01-Feb-02 P - 10,274,494 - $ 166,960\n",
      "While our established schedules of Tuesday and Friday DPR's would have us reporting tomorrow 's activity on Monday , we will change that for month end .\n",
      "Along with an area on the page for those to join the mailing list .\n",
      "My wife and I would love for you to come and visit our page\n",
      "Wiki Media Foundation , the group behind the Wikipedia online encyclopedia project , said Friday that search giant Google has volunteered to host some of its content on company servers .\n",
      "But it looks like Google is n't opening it's mouth about the reason behind the offer as Linux News reports :\n",
      "\" While we do n't have anything specific to announce today , Google and the Wikimedia Foundation are collaboratively evaluating creative ways to support Wikipedia.org and its community . \"\n",
      "One little boy stands up and offers that , \" if my best friend who lives next door was playing in the street when a car came along and killed him , that would be a tragedy \" .\n",
      "In a timid voice , he says : \" If an airplane carrying Winston Peters was blown up by a bomb , THAT would be a tragedy \" .\n",
      "They want to use LTS to tie into NASA 's vision for Space Exploration , and seem pleased that the White House is moving in that direction .\n",
      "With their proposal of a \" Earth - Moon \" highway , it looks like space tourism may become a reality sooner than we think .\n",
      "Lunar landers and other gear needed for extended visits to the moon will be lofted by gargantuan launchers as big as the Apollo - era Saturn 5 , the most powerful rockets ever flown .\n",
      "It looks as if NASA is transitioning away from the shuttle model , as in the past they have proven to be quite dangerous as Columbia has recently proved .\n",
      "NASA is planning on using these new shuttles to replace the current models , with industry forecasters predicting a launch as early as 2014 .\n",
      "NASA is planning on using these new shuttles to replace the current models , with industry forecasters predicting a launch as early as 2014 .\n",
      "The new rocket design will differ slightly from it's predecessors , in the fact that the crew and cargo would launch separately from two different rockets each and join up in space later on .\n",
      "Every now and then she stops to breathe .\n",
      "Here in Indiana I think it 's like $ 3 or $ 4 for a meal .\n",
      "Any particular shop that you know of AND their number .\n",
      "Well , they have a variety of sports that they play like basketball , soccer , etc .\n",
      "Well , they have a variety of sports that they play like basketball , soccer , etc .\n",
      "In the Episode \" So in Louvre Are We Two \" , How many diffrent painting / scupltures are their and who are the artists ?\n",
      "Of THESE three , it 's a toss - up between Royal and Carnival .\n",
      "I 'm looking for a camera that has really good zoom during a video and pictures ; and good quality pictures / videos\n",
      "MAD means crazy , or angry , so you do a lot with it , i would put a gorrilla screaming , just the face , and just throw in a lot of brushes fifferent colors , make it look artistic .\n",
      "A pacman frog will need a heat source that creates a basking temp in the upper 80's F for at least 10 - 12 hours a day .\n",
      "do n't forget to use a calcium supplement twice a week ; captive reptiles are prone to calcium deficiency .\n",
      "just pray for her ad=nd try to hlep your dog and do some physical therapy on the hind legs and take her to the vet and ig it costs a whole lot ask hlep from you friends and family adn since she s not eating feed her by hand\n",
      "How much would it cost for me to take me and three friends to Andiamo s restaurant for dinner ?\n",
      "Hi , i 'm looking to take myself and my best friend and his girl friend and this girl i really like out to dinner for my birthday .\n",
      "I really want to go to andiamo s for my birthday and i was just wondering how much it would cost for the four of us to eat there\n",
      "If you mean fluid ounces , 20 , as opposed to the 16 in America .\n",
      "as R - G said , there are only 16 in an American one .\n",
      "i would like more bands like them pleasseee\n",
      "The thing about The Script is they do not sound that Irish , I was surprised to hear they were from Dublin .\n",
      "It actually needs to be relatively waterproof - the last one I bought had me soaked in anything more than light / moderate rain .\n",
      "I know it s in the wrong catagory , but still , I wrote this question for a reason , not for you to critisize me .\n",
      "Any of the tip - top places have great ice - cream , get them to mix it up .\n",
      "any Ice Cream In NZ no matter where as New Zealand has the best bl**dy ice cream in the world I was in NZ for a few weeks had some Ice Cream and really enjoyed it I will go back just to eat some Ice Cream\n",
      "which is the best burger chain in the chicago metro area like for example burger king portillo s white castle which one do you like the best ?\n",
      "esp if not eating - if it had only happened once and could get him to eat right away - it could have been you missed his meal time and he needed to eat - since it sounds like it has happened several times over two days - then he may have gotten int to something that needs to be attended to RIGHT AWAY !!!\n",
      "I have a friend out in Chicago this week , and I am trying to remember the name of an awesome hibachi style restaurant i visited while out there a couple years ago .\n",
      "I have a friend out in Chicago this week , and I am trying to remember the name of an awesome hibachi style restaurant i visited while out there a couple years ago .\n",
      "My canon t2i stops working at times as in the power bottom is switched to \" on \" but the camera does not respond to any function .\n",
      "My canon t2i stops working at times as in the power bottom is switched to \" on \" but the camera does not respond to any function .\n",
      "My canon t2i stops working at times as in the power bottom is switched to \" on \" but the camera does not respond to any function .\n",
      "the camera only begins to work again when i take out the battery and put it back in .\n",
      "It sounds like a firmware issue and the camera requires a re-boot just like what happens in a computer - needs a re-start from time to time but it should n't be happening in a camera .\n",
      "I just want a simple way to get a good deal to whatever Restaurant I want , whenever I want .\n",
      "Or how about visiting the Chicago Botanical Gardens and see the change of colors and enjoy the air , They also have many inside exhibits you might enjoy , food is pretty good to .\n",
      "it was a little to high dollar for me\n",
      "Best ceviche that I 'd had so far ! :)\n",
      "quick in & out .\n",
      "Feels like you are in Brooklyn , but people watching is entertaining .\n",
      "Quality has fallen over the years , but still the best go - to burger place on the East Bay .\n",
      "Worst experience ever like a sardine can and the bartender downstairs is the rudest person I have ever met .\n",
      "Restaurant on top was renovated , food was decent , price was way to high for Duluth for quality , new decor seems tacky\n",
      "Pretty spendy for really not great quality\n",
      "The company gets busy but you never have to wait long because they ARE orginizied , so you are in , out , and paid well for your scrap\n",
      "Sanctuary serves delicious , somewhat healthy food in a great restaurant / fast food style .\n",
      "Paula has an amazing gift for creativity , vision and the ability to combine art to / with commercial purpose .\n",
      "Fried rice has NO flavor , it literally taste like water .\n",
      "wow , the representative went way above and beyond in helping me with my account set up .\n",
      "i wish the other utilities i had to set up had people to work with like this ..\n",
      "The waiting staff is really friendly , it s like every one knows each other , the manager is really sweet and the food .. well no complaints from me .\n",
      "Yes , it s that good .\n",
      "spot on\n",
      "They are like family .\n",
      "Also very friendly and the stylists are not in the \" been there / done that \" mood !\n",
      "Also very friendly and the stylists are not in the \" been there / done that \" mood !\n",
      "My pharmacy order is always correct and promptly delivered but the pharmacy staff are always very short with me and do n't seem to like answering questions .\n",
      "Clean store , friendly check - out staff up front .\n",
      "Clean store , friendly check - out staff up front .\n",
      "The door is easy to use and it keeps the cold out during the winter .\n",
      "We order take out from here all the time and we are never disappointed .\n",
      "They picked my car up in Yarmouth and towed to Bath for a great price .\n",
      "We at R&L Plumbing Services are pleased with your professionalism and the extra mile you went to get out computers working correctly , you will be our first call if anything happens again and we will refer you to other people with computer issues .\n",
      "Susanna is the best dress maker / tailor I 've ever come across in my whole life !\n",
      "this dentist want to pull the tooth out always .. always wants to do the cheapest for his benefit .. not unless he knows you .\n",
      "Just wanted you to know that Eric came by as scheduled today and sprayed our house for scorpions .\n",
      "He seemed to understand how important it was for us to make sure the whole house was sprayed so he took his time .\n",
      "The team who work there are helpfull , friendly and extremely knowledgeable and will help you as much as they can with thier years of hands on practice .\n",
      "yet again it was a great stay from begiinning to end .\n",
      "I get that careless teenager kind of treatment from some of their staff ... perhaps they should hire more serious adults to help serve / cook .\n",
      "He was very clean , very nice to work with and gave a very reasonable price .\n",
      "He listens and is excellent in diagnosing , addressing and explaining the specific issues and suggesting exercises to use .\n"
     ]
    }
   ],
   "source": [
    "def token_misclassified(clf, tagged_sentences, threshold=10):\n",
    "    \"\"\"\n",
    "    Given a list of tagged sentences, return a dictionary mapping tokens to the number of times they were misclassified\n",
    "    and the sentences containing those tokens.\n",
    "    \"\"\"\n",
    "    from collections import Counter\n",
    "    token_errors = Counter()\n",
    "    sentences_with_errors = []\n",
    "\n",
    "    for tagged_sentence in tagged_sentences:\n",
    "        errors, pred = errors_in_sentence_prediction(clf, tagged_sentence)\n",
    "        untagged_sentence = untag(tagged_sentence)\n",
    "        untagged_pos_sentence = untag_pos(tagged_sentence)\n",
    "\n",
    "        for i in range(len(pred)):\n",
    "            if pred[i] != untagged_pos_sentence[i]:\n",
    "                token_errors[untagged_sentence[i]] += 1\n",
    "                if token_errors[untagged_sentence[i]] > threshold:\n",
    "                    sentences_with_errors.append(\" \".join(untagged_sentence))\n",
    "\n",
    "    return token_errors, sentences_with_errors\n",
    "\n",
    "token_errors, misclassified_sentences = token_misclassified(clf, test_sentences, threshold=10)\n",
    "\n",
    "print(f'number of misclassefied sentences: {len(misclassified_sentences)}')\n",
    "for sentence in misclassified_sentences: \n",
    "    print(sentence)\n"
   ]
  },
  {
   "cell_type": "markdown",
   "metadata": {},
   "source": [
    "# Old analysis"
   ]
  },
  {
   "cell_type": "markdown",
   "metadata": {},
   "source": [
    "### 1.2.4 - Error Analysis - Possible reasons for these errors \n"
   ]
  },
  {
   "cell_type": "markdown",
   "metadata": {},
   "source": [
    "1. **Out-of-Vocabulary Words**: Tokens that were not present in the training data (or were rare) may be misclassified because the model lacks sufficient information about them. \n",
    "\n",
    "2. **Ambiguity in Context**: Some tokens may have multiple possible tags depending on the context. For example, the word \"run\" can be a noun (\"a long run\") or a verb (\"I run daily\"). The model may struggle to disambiguate based on surrounding words.\n",
    "\n",
    "3. **Complex Sentence Structures**: Sentences with unusual or complex grammatical structures may confuse the model, especially if such structures were underrepresented in the training data.\n",
    "\n",
    "4. **Feature Limitations**: The features used for classification may not capture all the nuances needed for accurate tagging. For instance, morphological or syntactic cues might be missing.\n"
   ]
  },
  {
   "cell_type": "markdown",
   "metadata": {},
   "source": [
    "### 1.2.5 - Error Analysis - five sentences that are badly tagged"
   ]
  },
  {
   "cell_type": "markdown",
   "metadata": {},
   "source": [
    "1. **Out-of-Vocabulary Words**\n",
    "   - **Sentence**: *\"shimi and roei danced at the party\"*\n",
    "   - **Reason**: The words \"shimi and roei\" are likely out-of-vocabulary, causing the model to misclassify their parts of speech.\n",
    "   - **Methode**:Use words that are unlikely to appear in the training data to test the model's handling of unknown tokens.\n",
    "\n",
    "2. **Ambiguity in Context**\n",
    "   - **Sentence**: *\"The lead singer decided to lead the group to success.\"*\n",
    "   - **Reason**: The word \"lead\" appears twice, once as a noun and once as a verb, creating ambiguity that the model may struggle to resolve.\n",
    "   - **Methode**:Include words with multiple meanings or parts of speech to create ambiguity.\n",
    "\n",
    "3. **Complex Sentence Structures**\n",
    "   - **Sentence**: *\"Although the cat, which had been missing for days, finally returned, it seemed uninterested in food.\"*\n",
    "   - **Reason**: The nested clause structure and long dependencies may confuse the model, leading to tagging errors.\n",
    "   - **Methode**: Write sentences with nested clauses, long dependencies, or unusual grammatical structures.\n",
    "\n",
    "4. **Feature Limitations**\n",
    "   - **Sentence**: *\"She re-read the book to re-evaluate her understanding.\"*\n",
    "   - **Reason**: The hyphenated words \"re-read\" and \"re-evaluate\" may not be well-represented in the feature set, leading to misclassification.\n",
    "   - **Methode**: Using hyphenated words, contractions, or unusual word forms to test the robustness of feature extraction.\n",
    "\n",
    "5. **Domain Mismatch**\n",
    "   - **Sentence**: *\"The server threw a 404 error when the API endpoint was hit.\"*\n",
    "   - **Reason**: Technical jargon like \"404 error\" and \"API endpoint\" is not align with the training data's domain, can cause tagging issues.\n",
    "   - **Methode**:Add technical, scientific, or domain-specific vocabulary to test the model's generalization.\n"
   ]
  },
  {
   "cell_type": "markdown",
   "metadata": {},
   "source": []
  },
  {
   "cell_type": "markdown",
   "metadata": {},
   "source": [
    "# New analysis\n"
   ]
  },
  {
   "cell_type": "markdown",
   "metadata": {},
   "source": [
    "### Error Analysis 2\n",
    "\n",
    "1. Function-word ambiguity (major source)\n",
    "   - Frequent errors: out (18), on (12), as (23), to (24), that (25), for (18), up (17), like (22), in (16). These are highly ambiguous across POS:\n",
    "     - to: infinitival marker vs preposition.\n",
    "     - that: complementizer vs determiner vs pronoun.\n",
    "     - like: verb vs preposition vs discourse marker.\n",
    "     - up/out: verb-particles vs adverbs vs prepositions.\n",
    "     - in/on/for/as: prepositions vs subordinators/particles.\n",
    "   - Likely cause: features underweight local syntactic cues (e.g., verb subcategorization, following base-verb after to, particle lists after specific verbs).\n",
    "\n",
    "2. Tokenization/orthography issues\n",
    "   - Problem tokens: 01-Feb-02 (11), raw slash / (18), hyphenation and apostrophes: “go - to”, “DPR's”, “it’s/it 's”, “been there / done that”.\n",
    "   - Likely cause: tokenizer splits or keeps multi-unit tokens suboptimally; hyphenated and slash-delimited sequences lack normalization; possessives and contractions create sparsity.\n",
    "\n",
    "3. Domain/style mismatch and noisy text\n",
    "   - Many sentences are informal reviews or forum-like text with colloquialisms, intensifiers, discourse markers (like, well), and typos (ad=nd, hlep, fifferent, orginizied).\n",
    "   - Likely cause: training data underrepresents this domain and orthographic noise; features rely on clean casing/word forms.\n",
    "\n",
    "4. Long/complex and list-like constructions\n",
    "   - Long finance/space-tech sentences with parentheses and multiple clauses (e.g., CDWR rate increase, NASA rocket discussion).\n",
    "   - Likely cause: long-distance dependencies and punctuation-heavy spans not captured by a short context window.\n",
    "\n",
    "5. Proper nouns and capitalization\n",
    "   - Entities (Google, Wikimedia, NASA, Chicago, Andiamo, Eric, Royal, Carnival) may be confused with common words when sentence-initial capitalization masks proper-noun cues.\n",
    "   - Likely cause: missing lexicon/NER features and weak capitalization patterns.\n"
   ]
  },
  {
   "cell_type": "markdown",
   "metadata": {},
   "source": [
    "\n",
    "### Error Analysis 3 (CAN BE REMOVED)\n",
    "\n",
    "1. Function-word ambiguity: that (25), like (22), to (24), up/out/in/on/for/as\n",
    "   - Sentence: “i tried to say i was n't that drunk but z was n't having any of that conversation .”\n",
    "     - Reason: that can be determiner (that conversation) and complementizer (not present here but frequent across set). The model likely conflates DET/SCONJ uses.\n",
    "     - Improve: add rules/features: that + NOUN → DET; VERB + that + CLAUSE → SCONJ.\n",
    "   - Sentence: “One little boy stands up and offers that , …”\n",
    "     - Reason: up is a particle (PRT/PART) after stands; that introduces a clause (SCONJ).\n",
    "     - Improve: verb–particle lexicon features; bigram features (stands up).\n",
    "   - Sentence: “Here in Indiana it 's like $ 3 or $ 4 for a meal .”\n",
    "     - Reason: like is preposition/comparator, not verb.\n",
    "     - Improve: pattern features like + NUM/DET; penalize VB if preceding copula it’s.\n",
    "   - Sentence: “They want to use LTS to tie into NASA 's vision …”\n",
    "     - Reason: to as marker (to use, to tie) vs preposition (tie into).\n",
    "     - Improve: to + VB → PART; into as PREP; subcat frames for tie into.\n",
    "\n",
    "2. Tokenization/orthography: dates, slashes, hyphens, apostrophes\n",
    "   - Sentence: “EY4108.I PERFORMANCE 01-Feb-02 P - 10,274,494 - $ 166,960”\n",
    "     - Reason: 01-Feb-02 should map to a single DATE/NUM-like token; current split likely produces unknown pieces (Feb, hyphens).\n",
    "     - Improve: regex pre-normalization mapping date-like tokens to a DATE category or unified NUM token.\n",
    "   - Sentence: “been there / done that”; “go - to burger place”; “DPR's”\n",
    "     - Reason: slash and spaced hyphens are tokenized as standalone punctuation; possessive with apostrophe-s varies (DPR's vs DPR 's).\n",
    "     - Improve: consistent tokenization: collapse spaced hyphens, attach possessive 's, treat X/Y as tokens around punctuation but add features that recognize coordination patterns.\n",
    "\n",
    "3. Noisy text and typos\n",
    "   - Sentence: “just pray for her ad=nd try to hlep your dog … ig it costs … ask hlep … adn …”\n",
    "     - Reason: OOV due to typos; surrounding function words (for, to) harder to tag when neighbors are noisy.\n",
    "     - Improve: light spell-normalization or character n-gram features; fallback unknown-word features leveraging affixes and casing.\n",
    "\n",
    "4. Long/complex sentences\n",
    "   - Sentence: “This morning 's paper reports that a rate increase of 40 % may be imposed by the CDWR as early as today …”\n",
    "     - Reason: multiple embedded PPs and complementizer that; risk of mislabeling as/that/to and percentage tokens.\n",
    "     - Improve: widen context window; include dependency-like features (head POS of reports → that-clause).\n",
    "\n",
    "5. Proper nouns vs common words\n",
    "   - Sentences with “Google”, “Wikipedia”, “NASA”, “Chicago”, “Andiamo”\n",
    "     - Reason: capitalization at sentence start can hide proper-noun signal; unseen names become OOV.\n",
    "     - Improve: lexicon/NER gazetteers; features using internal capitalization and preceding DET patterns (DET + ProperNoun is rare).\n"
   ]
  },
  {
   "cell_type": "code",
   "execution_count": null,
   "metadata": {},
   "outputs": [],
   "source": []
  }
 ],
 "metadata": {
  "kernelspec": {
   "display_name": ".venv",
   "language": "python",
   "name": "python3"
  },
  "language_info": {
   "codemirror_mode": {
    "name": "ipython",
    "version": 3
   },
   "file_extension": ".py",
   "mimetype": "text/x-python",
   "name": "python",
   "nbconvert_exporter": "python",
   "pygments_lexer": "ipython3",
   "version": "3.13.1"
  }
 },
 "nbformat": 4,
 "nbformat_minor": 2
}
